{
 "cells": [
  {
   "attachments": {},
   "cell_type": "markdown",
   "metadata": {},
   "source": [
    "### **Gradient Calculation**"
   ]
  },
  {
   "cell_type": "code",
   "execution_count": 3,
   "metadata": {},
   "outputs": [],
   "source": [
    "import torch as tch"
   ]
  },
  {
   "cell_type": "code",
   "execution_count": 3,
   "metadata": {},
   "outputs": [
    {
     "data": {
      "text/plain": [
       "tensor([-0.0145,  0.4443, -0.1249, -1.8893,  0.2505])"
      ]
     },
     "execution_count": 3,
     "metadata": {},
     "output_type": "execute_result"
    }
   ],
   "source": [
    "x=tch.randn(5)        # Gradients are false, with this we can't compute gradients\n",
    "x"
   ]
  },
  {
   "cell_type": "code",
   "execution_count": 26,
   "metadata": {},
   "outputs": [
    {
     "name": "stdout",
     "output_type": "stream",
     "text": [
      "x = tensor([-0.3379,  1.0093,  0.5507,  0.0982,  0.6641], requires_grad=True)\n",
      "y = tensor([ 4.6257, 25.4297,  8.9759,  2.2218, 12.1450], grad_fn=<AddBackward0>)\n",
      "z = 53.39802169799805\n",
      "Gradients wrt x tensor([-15.5422,  46.4277,  25.3334,   4.5176,  30.5506])\n"
     ]
    }
   ],
   "source": [
    "x=tch.randn(5,requires_grad=True)  # Gradients are true\n",
    "print(\"x = {}\".format(x))\n",
    "\n",
    "y=x*x*23+2\n",
    "y_sum=y.sum()\n",
    "print(\"y = {}\".format(y))\n",
    "\n",
    "z=y.sum()\n",
    "print(\"z = {}\".format(z))\n",
    "\n",
    "z.backward() # Computes dz/dx\n",
    "print(\"Gradients wrt x {}\".format(x.grad))\n",
    "\n",
    "# y.backward(x)  # Computes dy/dx\n",
    "# print(\"Gradients wrt y {}\".format(y_sum.grad))\n",
    "\n"
   ]
  },
  {
   "attachments": {},
   "cell_type": "markdown",
   "metadata": {},
   "source": [
    "#### **Preventing the Pytorch to track gradients**\n"
   ]
  },
  {
   "attachments": {},
   "cell_type": "markdown",
   "metadata": {},
   "source": [
    "**1. Using requires_grad_(requires_grad=False)**"
   ]
  },
  {
   "cell_type": "code",
   "execution_count": 31,
   "metadata": {},
   "outputs": [
    {
     "name": "stdout",
     "output_type": "stream",
     "text": [
      "x = tensor([-2.2986, -0.3224,  0.5825, -0.7033, -1.0650,  0.1364],\n",
      "       requires_grad=True)\n",
      "x = tensor([-2.2986, -0.3224,  0.5825, -0.7033, -1.0650,  0.1364])\n"
     ]
    }
   ],
   "source": [
    "x=tch.randn(6,requires_grad=True)\n",
    "print(\"x = {}\".format(x))\n",
    "\n",
    "x.requires_grad_(False)\n",
    "print(\"x = {}\".format(x))\n"
   ]
  },
  {
   "attachments": {},
   "cell_type": "markdown",
   "metadata": {},
   "source": [
    "**2. Using detach()**\n",
    "\n",
    "This creates the copy of another tensor withount gradients"
   ]
  },
  {
   "cell_type": "code",
   "execution_count": 33,
   "metadata": {},
   "outputs": [
    {
     "name": "stdout",
     "output_type": "stream",
     "text": [
      "y = tensor([-21.1951,  28.4543, 100.0550,  11.1985, -80.3295,  -2.0442],\n",
      "       grad_fn=<AddBackward0>)\n",
      "z = tensor([-21.1951,  28.4543, 100.0550,  11.1985, -80.3295,  -2.0442])\n"
     ]
    }
   ],
   "source": [
    "x=tch.randn(6,requires_grad=True)\n",
    "y=x**3+x**2+45*x+9\n",
    "print(\"y = {}\".format(y))\n",
    "\n",
    "z=y.detach()\n",
    "print(\"z = {}\".format(z))"
   ]
  },
  {
   "attachments": {},
   "cell_type": "markdown",
   "metadata": {},
   "source": [
    "**3. Using torch.no_grad()**"
   ]
  },
  {
   "cell_type": "code",
   "execution_count": 35,
   "metadata": {},
   "outputs": [
    {
     "name": "stdout",
     "output_type": "stream",
     "text": [
      "y = tensor([ 14.2390,  67.6528, -50.8189,  44.0368, -11.8679,  52.4718],\n",
      "       grad_fn=<AddBackward0>)\n",
      "z = tensor([ 18.2390,  71.6528, -46.8189,  48.0368,  -7.8679,  56.4718])\n"
     ]
    }
   ],
   "source": [
    "x=tch.randn(6,requires_grad=True)\n",
    "y=x**3+x**2+45*x+9\n",
    "print(\"y = {}\".format(y))\n",
    "\n",
    "with tch.no_grad():\n",
    "    z=y+4\n",
    "    print(\"z = {}\".format(z))"
   ]
  },
  {
   "attachments": {},
   "cell_type": "markdown",
   "metadata": {},
   "source": [
    "#### **Gradients in a Loop**\n",
    "\n",
    "In loop the gradients will be summed up so we have to make them zero."
   ]
  },
  {
   "cell_type": "code",
   "execution_count": 6,
   "metadata": {},
   "outputs": [
    {
     "name": "stdout",
     "output_type": "stream",
     "text": [
      "tensor(55., grad_fn=<SumBackward0>)\n",
      "tensor([14., 14., 14., 14., 14.])\n",
      "tensor(55., grad_fn=<SumBackward0>)\n",
      "tensor([14., 14., 14., 14., 14.])\n",
      "tensor(55., grad_fn=<SumBackward0>)\n",
      "tensor([14., 14., 14., 14., 14.])\n",
      "tensor(55., grad_fn=<SumBackward0>)\n",
      "tensor([14., 14., 14., 14., 14.])\n",
      "tensor(55., grad_fn=<SumBackward0>)\n",
      "tensor([14., 14., 14., 14., 14.])\n"
     ]
    }
   ],
   "source": [
    "weights=tch.ones(5,requires_grad=True)\n",
    "\n",
    "for epochs in range(5):\n",
    "    model_output=(weights**4+10*weights).sum()\n",
    "    # print(model_output)\n",
    "    model_output.backward()\n",
    "    print(weights.grad)\n",
    "    \n",
    "    weights.grad.zero_()        # Makes the gradients zero "
   ]
  },
  {
   "attachments": {},
   "cell_type": "markdown",
   "metadata": {},
   "source": [
    "### **Linear Regression with backpropagation**"
   ]
  },
  {
   "cell_type": "code",
   "execution_count": 60,
   "metadata": {},
   "outputs": [
    {
     "name": "stdout",
     "output_type": "stream",
     "text": [
      "Prediction before training: forward(3.4) = 0.0\n",
      "Prediction after training: forward(3.4) = 4.5784125328063965\n"
     ]
    }
   ],
   "source": [
    "X=tch.tensor([2,9,10,3],dtype=float)\n",
    "y=tch.tensor([4,18,20,6],dtype=float)\n",
    "\n",
    "# weight\n",
    "w=tch.tensor([0.0],requires_grad=True)\n",
    "\n",
    "# model prediction\n",
    "def forward(x):\n",
    "    return w*x\n",
    "\n",
    "# Loss calculation = MSE\n",
    "def MSE(y,y_hat):\n",
    "    return ((y_hat-y)**2).mean()\n",
    "\n",
    "# Gradients\n",
    "# MSE = 1/N * (w*x-y)**2\n",
    "# dJ/dx = 1/N 2x*(w*x-y)\n",
    "\n",
    "# Gradient\n",
    "def gradient(x,y,y_hat):\n",
    "    return tch.dot(2*x,y_hat-y).mean()\n",
    "\n",
    "# Learning rate\n",
    "learning_rate=0.001\n",
    "\n",
    "epochs=6\n",
    "\n",
    "print(\"Prediction before training: forward(3.4) = {}\".format(forward(5)[0]))\n",
    "for epoch in range(epochs):\n",
    "    # y_prediction\n",
    "    y_pred=forward(X)\n",
    "    \n",
    "    # loss\n",
    "    loss=MSE(y,y_pred)\n",
    "    \n",
    "    # This is general method\n",
    "    # # gradients\n",
    "    # dw=gradient(X,y,y_pred)\n",
    "    # w-= learning_rate*dw\n",
    "    \n",
    "    \n",
    "    # Let us see this in pytorch\n",
    "    loss.backward() # Computes the dL/dw\n",
    "    with tch.no_grad():\n",
    "        w-=learning_rate*w.grad\n",
    "        \n",
    "    # clearing gradients\n",
    "    w.grad.zero_()\n",
    "    \n",
    "    \n",
    "print(\"Prediction after training: forward(3.4) = {}\".format(forward(5)[0]))\n",
    "    \n"
   ]
  },
  {
   "cell_type": "code",
   "execution_count": null,
   "metadata": {},
   "outputs": [],
   "source": []
  }
 ],
 "metadata": {
  "kernelspec": {
   "display_name": "base",
   "language": "python",
   "name": "python3"
  },
  "language_info": {
   "codemirror_mode": {
    "name": "ipython",
    "version": 3
   },
   "file_extension": ".py",
   "mimetype": "text/x-python",
   "name": "python",
   "nbconvert_exporter": "python",
   "pygments_lexer": "ipython3",
   "version": "3.10.9"
  },
  "orig_nbformat": 4
 },
 "nbformat": 4,
 "nbformat_minor": 2
}

{
 "cells": [
  {
   "cell_type": "code",
   "execution_count": 1,
   "metadata": {},
   "outputs": [],
   "source": [
    "import torch\n",
    "from torch import nn"
   ]
  },
  {
   "cell_type": "markdown",
   "metadata": {},
   "source": [
    "#### **Linear**"
   ]
  },
  {
   "cell_type": "code",
   "execution_count": 11,
   "metadata": {},
   "outputs": [],
   "source": [
    "x = torch.randn(8,10)\n",
    "# Input has 10 featuresand having 8 batches of data\n",
    "linear = nn.Linear(10,5)    # output neurons having 5 nuerons\n",
    "out = linear(x)"
   ]
  },
  {
   "cell_type": "code",
   "execution_count": 12,
   "metadata": {},
   "outputs": [
    {
     "data": {
      "text/plain": [
       "tensor([[ 1.3956, -0.4068,  0.9135, -0.0567,  0.9425],\n",
       "        [-0.8554, -0.9520, -0.2841,  0.2607, -0.6184],\n",
       "        [-0.5602, -0.9550, -0.3731,  1.2849, -0.6647],\n",
       "        [-0.1775, -0.9988,  0.3462,  0.2733, -0.1629],\n",
       "        [ 0.3603, -0.3107, -0.4232,  0.4069,  0.1865],\n",
       "        [ 0.0688,  0.3131, -0.2657, -0.1323,  0.2565],\n",
       "        [ 0.2997, -0.8352, -1.2354, -0.1023,  0.2207],\n",
       "        [ 0.5137, -0.0872, -0.4194, -0.7475,  0.1167]],\n",
       "       grad_fn=<AddmmBackward0>)"
      ]
     },
     "execution_count": 12,
     "metadata": {},
     "output_type": "execute_result"
    }
   ],
   "source": [
    "out"
   ]
  },
  {
   "cell_type": "markdown",
   "metadata": {},
   "source": [
    "#### **Convolution 2d**"
   ]
  },
  {
   "cell_type": "code",
   "execution_count": 74,
   "metadata": {},
   "outputs": [
    {
     "data": {
      "text/plain": [
       "tensor([[[-0.3197,  0.0570,  0.6016],\n",
       "         [-1.4133, -0.8639, -1.8923],\n",
       "         [-0.3725,  1.0006, -0.0581],\n",
       "         [-0.5921,  0.1202, -0.3505]]])"
      ]
     },
     "execution_count": 74,
     "metadata": {},
     "output_type": "execute_result"
    }
   ],
   "source": [
    "# Reflection padding\n",
    "a = torch.randn(1,4,3)\n",
    "ref = nn.ReflectionPad2d((2,2,3,3))\n",
    "a"
   ]
  },
  {
   "cell_type": "code",
   "execution_count": 75,
   "metadata": {},
   "outputs": [
    {
     "data": {
      "text/plain": [
       "tensor([[[-0.3505,  0.1202, -0.5921,  0.1202, -0.3505,  0.1202, -0.5921],\n",
       "         [-0.0581,  1.0006, -0.3725,  1.0006, -0.0581,  1.0006, -0.3725],\n",
       "         [-1.8923, -0.8639, -1.4133, -0.8639, -1.8923, -0.8639, -1.4133],\n",
       "         [ 0.6016,  0.0570, -0.3197,  0.0570,  0.6016,  0.0570, -0.3197],\n",
       "         [-1.8923, -0.8639, -1.4133, -0.8639, -1.8923, -0.8639, -1.4133],\n",
       "         [-0.0581,  1.0006, -0.3725,  1.0006, -0.0581,  1.0006, -0.3725],\n",
       "         [-0.3505,  0.1202, -0.5921,  0.1202, -0.3505,  0.1202, -0.5921],\n",
       "         [-0.0581,  1.0006, -0.3725,  1.0006, -0.0581,  1.0006, -0.3725],\n",
       "         [-1.8923, -0.8639, -1.4133, -0.8639, -1.8923, -0.8639, -1.4133],\n",
       "         [ 0.6016,  0.0570, -0.3197,  0.0570,  0.6016,  0.0570, -0.3197]]])"
      ]
     },
     "execution_count": 75,
     "metadata": {},
     "output_type": "execute_result"
    }
   ],
   "source": [
    "ref(a)"
   ]
  },
  {
   "cell_type": "code",
   "execution_count": 38,
   "metadata": {},
   "outputs": [],
   "source": [
    "img = torch.randn(8,7,50,80)\n",
    "# Input image having (5,8) size and 3 channels => 8 batches\n",
    "conv = nn.Sequential(\n",
    "    nn.ReflectionPad2d(1),\n",
    "    nn.Conv2d(7,5,kernel_size=3,stride=1,padding='same')        # Output have 5 neurons\n",
    ")\n",
    "out = conv(img) "
   ]
  },
  {
   "cell_type": "code",
   "execution_count": 39,
   "metadata": {},
   "outputs": [
    {
     "data": {
      "text/plain": [
       "torch.Size([8, 5, 52, 82])"
      ]
     },
     "execution_count": 39,
     "metadata": {},
     "output_type": "execute_result"
    }
   ],
   "source": [
    "out.shape"
   ]
  },
  {
   "cell_type": "code",
   "execution_count": 36,
   "metadata": {},
   "outputs": [],
   "source": [
    "x = torch.rand(1,3,5,5)\n",
    "conv = nn.Linear(5,2,bias=False)"
   ]
  },
  {
   "cell_type": "code",
   "execution_count": 37,
   "metadata": {},
   "outputs": [
    {
     "data": {
      "text/plain": [
       "tensor([[[[0.6413, 0.2258, 0.4779, 0.1451, 0.9165],\n",
       "          [0.1236, 0.5681, 0.6454, 0.1888, 0.8771],\n",
       "          [0.3584, 0.4388, 0.9393, 0.8606, 0.2602],\n",
       "          [0.8578, 0.3752, 0.6422, 0.9536, 0.7200],\n",
       "          [0.6745, 0.3448, 0.8279, 0.3713, 0.9421]],\n",
       "\n",
       "         [[0.4812, 0.0567, 0.8137, 0.6545, 0.1797],\n",
       "          [0.4372, 0.7834, 0.2818, 0.4584, 0.3356],\n",
       "          [0.7850, 0.1500, 0.4659, 0.1379, 0.8142],\n",
       "          [0.2499, 0.2721, 0.3901, 0.1910, 0.6858],\n",
       "          [0.4856, 0.8548, 0.0078, 0.2662, 0.0158]],\n",
       "\n",
       "         [[0.4157, 0.2377, 0.6009, 0.4433, 0.9976],\n",
       "          [0.9837, 0.2083, 0.6957, 0.6463, 0.2669],\n",
       "          [0.8079, 0.1897, 0.6943, 0.5660, 0.0227],\n",
       "          [0.8183, 0.6001, 0.3676, 0.1246, 0.4724],\n",
       "          [0.7240, 0.1267, 0.1056, 0.4477, 0.3011]]]])"
      ]
     },
     "execution_count": 37,
     "metadata": {},
     "output_type": "execute_result"
    }
   ],
   "source": [
    "x"
   ]
  },
  {
   "cell_type": "code",
   "execution_count": 38,
   "metadata": {},
   "outputs": [
    {
     "data": {
      "text/plain": [
       "tensor([[[[ 0.2206, -0.1298],\n",
       "          [ 0.0456, -0.0015],\n",
       "          [-0.0375,  0.0901],\n",
       "          [ 0.1046, -0.1375],\n",
       "          [ 0.1895, -0.0751]],\n",
       "\n",
       "         [[ 0.0181, -0.0013],\n",
       "          [ 0.1638,  0.1866],\n",
       "          [ 0.2790, -0.1099],\n",
       "          [ 0.0576, -0.0901],\n",
       "          [ 0.2728,  0.3348]],\n",
       "\n",
       "         [[ 0.0287, -0.2256],\n",
       "          [ 0.2572,  0.0579],\n",
       "          [ 0.2185,  0.1431],\n",
       "          [ 0.3947,  0.1928],\n",
       "          [ 0.1794, -0.0772]]]], grad_fn=<UnsafeViewBackward0>)"
      ]
     },
     "execution_count": 38,
     "metadata": {},
     "output_type": "execute_result"
    }
   ],
   "source": [
    "out = conv(x)\n",
    "out"
   ]
  },
  {
   "cell_type": "code",
   "execution_count": 40,
   "metadata": {},
   "outputs": [],
   "source": [
    "w = conv.state_dict()['weight']\n",
    "# b = conv.state_dict()['bias']"
   ]
  },
  {
   "cell_type": "code",
   "execution_count": 41,
   "metadata": {},
   "outputs": [
    {
     "data": {
      "text/plain": [
       "tensor([[ 0.4350,  0.1700,  0.0177, -0.3109, -0.0655],\n",
       "        [ 0.0968,  0.4170,  0.1884, -0.2413, -0.3721]])"
      ]
     },
     "execution_count": 41,
     "metadata": {},
     "output_type": "execute_result"
    }
   ],
   "source": [
    "w"
   ]
  },
  {
   "cell_type": "code",
   "execution_count": 43,
   "metadata": {},
   "outputs": [
    {
     "data": {
      "text/plain": [
       "tensor([[[[ 0.2206, -0.1298],\n",
       "          [ 0.0456, -0.0015],\n",
       "          [-0.0375,  0.0901],\n",
       "          [ 0.1046, -0.1375],\n",
       "          [ 0.1895, -0.0751]],\n",
       "\n",
       "         [[ 0.0181, -0.0013],\n",
       "          [ 0.1638,  0.1866],\n",
       "          [ 0.2790, -0.1099],\n",
       "          [ 0.0576, -0.0901],\n",
       "          [ 0.2728,  0.3348]],\n",
       "\n",
       "         [[ 0.0287, -0.2256],\n",
       "          [ 0.2572,  0.0579],\n",
       "          [ 0.2185,  0.1431],\n",
       "          [ 0.3947,  0.1928],\n",
       "          [ 0.1794, -0.0772]]]])"
      ]
     },
     "execution_count": 43,
     "metadata": {},
     "output_type": "execute_result"
    }
   ],
   "source": [
    "x @ w.T"
   ]
  },
  {
   "cell_type": "code",
   "execution_count": 1,
   "metadata": {},
   "outputs": [],
   "source": [
    "import torch\n",
    "from torch import nn"
   ]
  },
  {
   "cell_type": "code",
   "execution_count": 25,
   "metadata": {},
   "outputs": [
    {
     "data": {
      "text/plain": [
       "tensor([[[[2., 2.],\n",
       "          [2., 1.]],\n",
       "\n",
       "         [[2., 2.],\n",
       "          [1., 1.]]],\n",
       "\n",
       "\n",
       "        [[[2., 2.],\n",
       "          [1., 1.]],\n",
       "\n",
       "         [[1., 2.],\n",
       "          [1., 1.]]],\n",
       "\n",
       "\n",
       "        [[[2., 1.],\n",
       "          [2., 1.]],\n",
       "\n",
       "         [[2., 2.],\n",
       "          [2., 1.]]],\n",
       "\n",
       "\n",
       "        [[[2., 1.],\n",
       "          [2., 2.]],\n",
       "\n",
       "         [[1., 1.],\n",
       "          [2., 2.]]]])"
      ]
     },
     "execution_count": 25,
     "metadata": {},
     "output_type": "execute_result"
    }
   ],
   "source": [
    "x = torch.randint(1,3,(4,2,2,2),dtype=torch.float32)\n",
    "x\n"
   ]
  },
  {
   "cell_type": "code",
   "execution_count": 26,
   "metadata": {},
   "outputs": [
    {
     "data": {
      "text/plain": [
       "tensor([[[[ 0.7746,  0.7746],\n",
       "          [ 0.7746, -1.2910]],\n",
       "\n",
       "         [[ 1.0000,  1.0000],\n",
       "          [-1.0000, -1.0000]]],\n",
       "\n",
       "\n",
       "        [[[ 0.7746,  0.7746],\n",
       "          [-1.2910, -1.2910]],\n",
       "\n",
       "         [[-1.0000,  1.0000],\n",
       "          [-1.0000, -1.0000]]],\n",
       "\n",
       "\n",
       "        [[[ 0.7746, -1.2910],\n",
       "          [ 0.7746, -1.2910]],\n",
       "\n",
       "         [[ 1.0000,  1.0000],\n",
       "          [ 1.0000, -1.0000]]],\n",
       "\n",
       "\n",
       "        [[[ 0.7746, -1.2910],\n",
       "          [ 0.7746,  0.7746]],\n",
       "\n",
       "         [[-1.0000, -1.0000],\n",
       "          [ 1.0000,  1.0000]]]], grad_fn=<NativeBatchNormBackward0>)"
      ]
     },
     "execution_count": 26,
     "metadata": {},
     "output_type": "execute_result"
    }
   ],
   "source": [
    "nn.BatchNorm2d(2,affine=True)(x)"
   ]
  },
  {
   "cell_type": "code",
   "execution_count": 22,
   "metadata": {},
   "outputs": [
    {
     "data": {
      "text/plain": [
       "tensor(1.6250)"
      ]
     },
     "execution_count": 22,
     "metadata": {},
     "output_type": "execute_result"
    }
   ],
   "source": [
    "torch.mean(x)"
   ]
  },
  {
   "cell_type": "code",
   "execution_count": 23,
   "metadata": {},
   "outputs": [
    {
     "data": {
      "text/plain": [
       "tensor(0.2679)"
      ]
     },
     "execution_count": 23,
     "metadata": {},
     "output_type": "execute_result"
    }
   ],
   "source": [
    "torch.var(x)"
   ]
  },
  {
   "cell_type": "code",
   "execution_count": 24,
   "metadata": {},
   "outputs": [
    {
     "name": "stdout",
     "output_type": "stream",
     "text": [
      "1.3997760358342664\n"
     ]
    }
   ],
   "source": [
    "print((2-1.6250)/0.2679)"
   ]
  },
  {
   "cell_type": "code",
   "execution_count": null,
   "metadata": {},
   "outputs": [],
   "source": []
  }
 ],
 "metadata": {
  "kernelspec": {
   "display_name": "base",
   "language": "python",
   "name": "python3"
  },
  "language_info": {
   "codemirror_mode": {
    "name": "ipython",
    "version": 3
   },
   "file_extension": ".py",
   "mimetype": "text/x-python",
   "name": "python",
   "nbconvert_exporter": "python",
   "pygments_lexer": "ipython3",
   "version": "3.10.9"
  }
 },
 "nbformat": 4,
 "nbformat_minor": 2
}

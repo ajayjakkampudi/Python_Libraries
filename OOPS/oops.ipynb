{
 "cells": [
  {
   "cell_type": "markdown",
   "metadata": {},
   "source": [
    "### **The self**\n",
    "1. Class methods must have an extra first parameter in the method definition. We do not give a value for this parameter when we call the method, Python provides it\n",
    "2. If we have a method that takes no arguments, then we still have to have one argument.\n",
    "3. This is similar to this pointer in C++ and this reference in Java.\n",
    "\n",
    "### **The __init__ method** \n",
    "The __init__ method is similar to constructors in C++ and Java. It is run as soon as an object of a class is instantiated. The method is useful to do any initialization you want to do with your object. \n",
    "\n",
    "Now let us define a class and create some objects using the self and __init__ method"
   ]
  },
  {
   "cell_type": "code",
   "execution_count": 1,
   "metadata": {},
   "outputs": [
    {
     "name": "stdout",
     "output_type": "stream",
     "text": [
      "Value of pi is 3.143\n",
      "Radius=7\n",
      "Perimeter of circle=44.001999999999995\n",
      "Area of circle=154.00699999999998\n"
     ]
    }
   ],
   "source": [
    "class circle:\n",
    "    # class attribute\n",
    "    pi=3.143\n",
    "    \n",
    "    #instance attribute\n",
    "    def __init__(self,radius):\n",
    "        self.r=radius\n",
    "        \n",
    "    def area(self):\n",
    "        return __class__.pi*self.r*self.r\n",
    "    \n",
    "    def perimeter(self):\n",
    "        return 2*__class__.pi*self.r\n",
    "    \n",
    "    \n",
    "# Object initialisation\n",
    "circle1=circle(7)\n",
    "\n",
    "\n",
    "# Accessing class attributes\n",
    "print(\"Value of pi is {}\".format(circle1.__class__.pi))\n",
    "\n",
    "print(\"Radius={}\".format(circle1.r))\n",
    "# Accessing instance attributes\n",
    "print(\"Perimeter of circle={}\".format(circle1.perimeter())) \n",
    "print(\"Area of circle={}\".format(circle1.area())) \n",
    "     \n",
    "        "
   ]
  },
  {
   "cell_type": "markdown",
   "metadata": {},
   "source": [
    "## Inheritance\n",
    "Inheritance is the capability of one class to derive or inherit the properties from another class. The class that derives properties is called the derived class or child class and the class from which the properties are being derived is called the base class or parent class. The benefits of inheritance are:\n",
    "1. It represents real-world relationships well.\n",
    "1. It provides the reusability of a code. We don’t have to write the same code again and again. Also, it allows us to add more features to a class without modifying it.\n",
    "1. It is transitive in nature, which means that if class B inherits from another class A, then all the subclasses of B would automatically inherit from class A.\n",
    "\n",
    "\n",
    "#### **Types of Inheritance** \n",
    "**Single Inheritance**:\n",
    "Single-level inheritance enables a derived class to inherit characteristics from a single-parent class.\n",
    "\n",
    "**Multilevel Inheritance**:\n",
    "Multi-level inheritance enables a derived class to inherit properties from an immediate parent class which in turn inherits properties from his parent class.\n",
    "\n",
    "**Hierarchical Inheritance**:\n",
    "Hierarchical level inheritance enables more than one derived class to inherit properties from a parent class.\n",
    "\n",
    "**Multiple Inheritance**:\n",
    "Multiple level inheritance enables one derived class to inherit properties from more than one base class."
   ]
  },
  {
   "cell_type": "code",
   "execution_count": 5,
   "metadata": {},
   "outputs": [
    {
     "name": "stdout",
     "output_type": "stream",
     "text": [
      "Value of pi is 3.143\n",
      "Radius=14\n",
      "Perimeter of circle=88.00399999999999\n",
      "Area of circle=616.0279999999999\n"
     ]
    }
   ],
   "source": [
    "class Sphere(circle):\n",
    "    def __init__(self, radius):\n",
    "        super().__init__(radius)\n",
    "\n",
    "circle2=Sphere(14)\n",
    "print(\"Value of pi is {}\".format(circle2.__class__.pi))\n",
    "\n",
    "print(\"Radius={}\".format(circle2.r))\n",
    "\n",
    "print(\"Perimeter of circle={}\".format(circle2.perimeter())) \n",
    "print(\"Area of circle={}\".format(circle2.area())) \n"
   ]
  },
  {
   "cell_type": "markdown",
   "metadata": {},
   "source": [
    "#### **Super**"
   ]
  },
  {
   "cell_type": "code",
   "execution_count": 1,
   "metadata": {},
   "outputs": [
    {
     "name": "stdout",
     "output_type": "stream",
     "text": [
      "The ID is: 103\n",
      "The Name is: Suraj kr gupta\n",
      "The Address is: Noida\n",
      "The Emails is: KKK@gmails\n"
     ]
    }
   ],
   "source": [
    "class Emp():\n",
    "\tdef __init__(self, id, name, Add):\n",
    "\t\tself.id = id\n",
    "\t\tself.name = name\n",
    "\t\tself.Add = Add\n",
    "\n",
    "# Class freelancer inherits EMP\n",
    "class Freelance(Emp):\n",
    "\tdef __init__(self, id, name, Add, Emails):\n",
    "\t\tsuper().__init__(id, name, Add)\n",
    "\t\tself.Emails = Emails\n",
    "\n",
    "Emp_1 = Freelance(103, \"Suraj kr gupta\", \"Noida\" , \"KKK@gmails\")\n",
    "print('The ID is:', Emp_1.id)\n",
    "print('The Name is:', Emp_1.name)\n",
    "print('The Address is:', Emp_1.Add)\n",
    "print('The Emails is:', Emp_1.Emails)\n"
   ]
  },
  {
   "cell_type": "code",
   "execution_count": 20,
   "metadata": {},
   "outputs": [
    {
     "name": "stdout",
     "output_type": "stream",
     "text": [
      "Dog cannot fly\n",
      "Dog Is a mammal\n"
     ]
    }
   ],
   "source": [
    "class Mammal():\n",
    "\n",
    "\tdef __init__(self, name):\n",
    "\t\tprint(name, \"Is a mammal\")\n",
    "\n",
    "class canFly(Mammal):\n",
    "\n",
    "\tdef __init__(self, canFly_name):\n",
    "\t\tprint(canFly_name, \"cannot fly\")\n",
    "\n",
    "\t\t# Calling Parent class\n",
    "\t\t# Constructor\n",
    "\t\tsuper().__init__(canFly_name)\n",
    "\n",
    "class canSwim(Mammal):\n",
    "\n",
    "\tdef __init__(self, canSwim_name):\n",
    "\n",
    "\t\tprint(canSwim_name, \"cannot swim\")\n",
    "\n",
    "\t\tsuper().__init__(canSwim_name)\n",
    "\n",
    "class Animal(canSwim,canFly):\n",
    "\n",
    "\tdef __init__(self, name):\n",
    "\t\tsuper(canSwim,self).__init__(name)\n",
    "\n",
    "# Driver Code\n",
    "Carol = Animal(\"Dog\")\n"
   ]
  },
  {
   "cell_type": "code",
   "execution_count": 10,
   "metadata": {},
   "outputs": [
    {
     "ename": "AttributeError",
     "evalue": "'super' object has no attribute 'method'",
     "output_type": "error",
     "traceback": [
      "\u001b[1;31m---------------------------------------------------------------------------\u001b[0m",
      "\u001b[1;31mAttributeError\u001b[0m                            Traceback (most recent call last)",
      "\u001b[1;32mc:\\Users\\J Narasimha Rao\\Desktop\\Python\\Python Libraries\\OOPS\\oops.ipynb Cell 8\u001b[0m line \u001b[0;36m1\n\u001b[0;32m     <a href='vscode-notebook-cell:/c%3A/Users/J%20Narasimha%20Rao/Desktop/Python/Python%20Libraries/OOPS/oops.ipynb#X11sZmlsZQ%3D%3D?line=10'>11</a>\u001b[0m         \u001b[39msuper\u001b[39m(ParentB, \u001b[39mself\u001b[39m)\u001b[39m.\u001b[39mmethod()\n\u001b[0;32m     <a href='vscode-notebook-cell:/c%3A/Users/J%20Narasimha%20Rao/Desktop/Python/Python%20Libraries/OOPS/oops.ipynb#X11sZmlsZQ%3D%3D?line=12'>13</a>\u001b[0m child \u001b[39m=\u001b[39m Child()\n\u001b[1;32m---> <a href='vscode-notebook-cell:/c%3A/Users/J%20Narasimha%20Rao/Desktop/Python/Python%20Libraries/OOPS/oops.ipynb#X11sZmlsZQ%3D%3D?line=13'>14</a>\u001b[0m child\u001b[39m.\u001b[39;49mmethod()\n",
      "\u001b[1;32mc:\\Users\\J Narasimha Rao\\Desktop\\Python\\Python Libraries\\OOPS\\oops.ipynb Cell 8\u001b[0m line \u001b[0;36m1\n\u001b[0;32m     <a href='vscode-notebook-cell:/c%3A/Users/J%20Narasimha%20Rao/Desktop/Python/Python%20Libraries/OOPS/oops.ipynb#X11sZmlsZQ%3D%3D?line=9'>10</a>\u001b[0m \u001b[39mdef\u001b[39;00m \u001b[39mmethod\u001b[39m(\u001b[39mself\u001b[39m):\n\u001b[1;32m---> <a href='vscode-notebook-cell:/c%3A/Users/J%20Narasimha%20Rao/Desktop/Python/Python%20Libraries/OOPS/oops.ipynb#X11sZmlsZQ%3D%3D?line=10'>11</a>\u001b[0m     \u001b[39msuper\u001b[39;49m(ParentB, \u001b[39mself\u001b[39;49m)\u001b[39m.\u001b[39;49mmethod()\n",
      "\u001b[1;31mAttributeError\u001b[0m: 'super' object has no attribute 'method'"
     ]
    }
   ],
   "source": [
    "class ParentA:\n",
    "    def method(self):\n",
    "        print(\"Method in ParentA\")\n",
    "\n",
    "class ParentB:\n",
    "    def method(self):\n",
    "        print(\"Method in ParentB\")\n",
    "\n",
    "class Child(ParentA, ParentB):\n",
    "    def method(self):\n",
    "        super(ParentB, self).method()\n",
    "\n",
    "child = Child()\n",
    "child.method()  # Output: \"Method in ParentB\"\n"
   ]
  },
  {
   "cell_type": "code",
   "execution_count": 26,
   "metadata": {},
   "outputs": [
    {
     "data": {
      "text/plain": [
       "array([1., 2., 3., 4., 5.])"
      ]
     },
     "execution_count": 26,
     "metadata": {},
     "output_type": "execute_result"
    }
   ],
   "source": [
    "import numpy as np\n",
    "x = np.linspace(1,5,5)\n",
    "x"
   ]
  },
  {
   "cell_type": "code",
   "execution_count": 29,
   "metadata": {},
   "outputs": [
    {
     "data": {
      "text/plain": [
       "array([0, 1, 2, 3, 4])"
      ]
     },
     "execution_count": 29,
     "metadata": {},
     "output_type": "execute_result"
    }
   ],
   "source": [
    "np.arange(0,5)"
   ]
  },
  {
   "cell_type": "code",
   "execution_count": 96,
   "metadata": {},
   "outputs": [],
   "source": [
    "import torch\n",
    "from torch import nn\n",
    "x = torch.rand(30,4,2)\n",
    "y = torch.rand(30,4,2)"
   ]
  },
  {
   "cell_type": "code",
   "execution_count": 80,
   "metadata": {},
   "outputs": [
    {
     "name": "stdout",
     "output_type": "stream",
     "text": [
      "tensor([[[0.4015, 0.9569],\n",
      "         [0.9667, 0.8752]],\n",
      "\n",
      "        [[0.6048, 0.2045],\n",
      "         [0.2638, 0.1286]],\n",
      "\n",
      "        [[0.6970, 0.7786],\n",
      "         [0.6345, 0.7868]]])\n",
      "tensor([[[0.6710, 0.6341],\n",
      "         [0.5419, 0.5410]],\n",
      "\n",
      "        [[0.6329, 0.5915],\n",
      "         [0.1012, 0.0753]],\n",
      "\n",
      "        [[0.1134, 0.9173],\n",
      "         [0.8617, 0.9105]]])\n"
     ]
    }
   ],
   "source": [
    "print(x)\n",
    "print(y)"
   ]
  },
  {
   "cell_type": "code",
   "execution_count": 97,
   "metadata": {},
   "outputs": [
    {
     "data": {
      "text/plain": [
       "torch.Size([30, 8, 2])"
      ]
     },
     "execution_count": 97,
     "metadata": {},
     "output_type": "execute_result"
    }
   ],
   "source": [
    "z = torch.cat((x,y),dim=1)\n",
    "z.shape"
   ]
  },
  {
   "cell_type": "code",
   "execution_count": 102,
   "metadata": {},
   "outputs": [
    {
     "data": {
      "text/plain": [
       "torch.Size([2, 2, 18, 18])"
      ]
     },
     "execution_count": 102,
     "metadata": {},
     "output_type": "execute_result"
    }
   ],
   "source": [
    "x = torch.rand(2,1,18,18)\n",
    "conv = nn.Conv2d(1,2,3,1,padding=1)\n",
    "conv(x).shape"
   ]
  },
  {
   "cell_type": "code",
   "execution_count": null,
   "metadata": {},
   "outputs": [],
   "source": []
  }
 ],
 "metadata": {
  "kernelspec": {
   "display_name": "Python 3.8.9 64-bit",
   "language": "python",
   "name": "python3"
  },
  "language_info": {
   "codemirror_mode": {
    "name": "ipython",
    "version": 3
   },
   "file_extension": ".py",
   "mimetype": "text/x-python",
   "name": "python",
   "nbconvert_exporter": "python",
   "pygments_lexer": "ipython3",
   "version": "3.10.9"
  },
  "orig_nbformat": 4,
  "vscode": {
   "interpreter": {
    "hash": "e6304c2455b6c832b9b93396a37f88edc7088e879a4a08232929e226309c5e3f"
   }
  }
 },
 "nbformat": 4,
 "nbformat_minor": 2
}

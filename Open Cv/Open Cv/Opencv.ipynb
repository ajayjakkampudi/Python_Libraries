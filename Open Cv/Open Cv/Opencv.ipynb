{
 "cells": [
  {
   "cell_type": "markdown",
   "metadata": {},
   "source": [
    "### Accessing Videos"
   ]
  },
  {
   "cell_type": "code",
   "execution_count": 3,
   "metadata": {},
   "outputs": [],
   "source": [
    "import cv2\n",
    "import numpy as np\n",
    "cap=cv2.VideoCapture(0) # 0 for the webcam\n",
    "while True:\n",
    "    ret,frame=cap.read() # ret is bool & frame is the image at that particular instant\n",
    "    cv2.imshow('Window',frame) # Window is the name\n",
    "    # If we waited for 1ms and pressed a then the window get closed\n",
    "    if cv2.waitKey(1) & 0xFF==ord('a'): \n",
    "        break\n",
    "cap.release() # releases the capture\n",
    "cv2.destroyAllWindows() # Destroys all windows"
   ]
  },
  {
   "cell_type": "code",
   "execution_count": 2,
   "metadata": {},
   "outputs": [],
   "source": []
  },
  {
   "cell_type": "code",
   "execution_count": null,
   "metadata": {},
   "outputs": [],
   "source": []
  }
 ],
 "metadata": {
  "kernelspec": {
   "display_name": "Python 3.7.13 ('libraries')",
   "language": "python",
   "name": "python3"
  },
  "language_info": {
   "codemirror_mode": {
    "name": "ipython",
    "version": 3
   },
   "file_extension": ".py",
   "mimetype": "text/x-python",
   "name": "python",
   "nbconvert_exporter": "python",
   "pygments_lexer": "ipython3",
   "version": "3.7.13"
  },
  "orig_nbformat": 4,
  "vscode": {
   "interpreter": {
    "hash": "b964ae503311e79502a8d957e2ebdd300000b59e6caa1d50b766d5e6d83f1e2b"
   }
  }
 },
 "nbformat": 4,
 "nbformat_minor": 2
}

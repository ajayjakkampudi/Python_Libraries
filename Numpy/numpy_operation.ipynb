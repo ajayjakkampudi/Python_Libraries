{
 "cells": [
  {
   "cell_type": "code",
   "execution_count": 2,
   "metadata": {},
   "outputs": [],
   "source": [
    "import numpy as np"
   ]
  },
  {
   "attachments": {},
   "cell_type": "markdown",
   "metadata": {},
   "source": [
    "#### **Array Operations**"
   ]
  },
  {
   "cell_type": "code",
   "execution_count": 24,
   "metadata": {},
   "outputs": [
    {
     "name": "stdout",
     "output_type": "stream",
     "text": [
      "0\n",
      "[2 3 0]\n",
      "[[2]\n",
      " [0]\n",
      " [6]]\n"
     ]
    }
   ],
   "source": [
    "x=np.array([[2,3,4],[7,5,0],[8,7,6]])\n",
    "print(x.min())  # Prints minimum of the whole array\n",
    "print(np.min(x,axis=0))  # Prints minimum of the along column wise\n",
    "print(np.min(x,axis=1,keepdims=True))  # Prints minimum of the along row wise"
   ]
  },
  {
   "attachments": {},
   "cell_type": "markdown",
   "metadata": {},
   "source": [
    "14. Unique\n",
    "    Return an array with all the unique elements sorted.\n",
    "\n",
    "    np.unique(array,return_index=False,return_inverse=False,return_counts=False,axis=None)\n",
    "\n",
    "    Important params\n",
    "    \n",
    "    return_index: if True, return the indices of the array.\n",
    "    \n",
    "    return_inverse: if True, return the indices of the unique array.\n",
    "    \n",
    "    return_counts: if True, return the number of times each unique element appears inside the array.\n",
    "    \n",
    "    axis: The axis to operate on. By default, the array is considered flattened."
   ]
  },
  {
   "cell_type": "code",
   "execution_count": 15,
   "metadata": {},
   "outputs": [
    {
     "name": "stdout",
     "output_type": "stream",
     "text": [
      "[0 1 3 4 5]\n",
      "[[1 3 0]\n",
      " [1 3 4]\n",
      " [1 5 4]]\n",
      "[[1 3 4]\n",
      " [1 3 0]\n",
      " [1 3 0]\n",
      " [1 5 4]\n",
      " [1 3 4]]\n"
     ]
    }
   ],
   "source": [
    "x=np.array([[1,3,4],[1,3,0],[1,3,0],[1,5,4],[1,3,4]])\n",
    "# Prints the unique values by flatenning the array\n",
    "print(np.unique(x))\n",
    "\n",
    "print(np.unique(x,axis=0))\n",
    "print(np.unique(x,axis=1))"
   ]
  },
  {
   "attachments": {},
   "cell_type": "markdown",
   "metadata": {},
   "source": [
    "15. Mean and median"
   ]
  },
  {
   "cell_type": "code",
   "execution_count": 25,
   "metadata": {},
   "outputs": [
    {
     "name": "stdout",
     "output_type": "stream",
     "text": [
      "[[2.66666667]\n",
      " [3.33333333]\n",
      " [1.33333333]\n",
      " [3.33333333]\n",
      " [2.66666667]]\n",
      "[[1. 3. 4.]]\n"
     ]
    }
   ],
   "source": [
    "x=np.array([[1,3,4],[1,3,6],[1,3,0],[1,5,4],[1,3,4]])\n",
    "print(np.mean(x,axis=1,keepdims=True))\n",
    "\n",
    "print(np.median(x,axis=0,keepdims=True))"
   ]
  },
  {
   "cell_type": "code",
   "execution_count": null,
   "metadata": {},
   "outputs": [],
   "source": []
  }
 ],
 "metadata": {
  "kernelspec": {
   "display_name": "base",
   "language": "python",
   "name": "python3"
  },
  "language_info": {
   "codemirror_mode": {
    "name": "ipython",
    "version": 3
   },
   "file_extension": ".py",
   "mimetype": "text/x-python",
   "name": "python",
   "nbconvert_exporter": "python",
   "pygments_lexer": "ipython3",
   "version": "3.9.13"
  },
  "orig_nbformat": 4
 },
 "nbformat": 4,
 "nbformat_minor": 2
}

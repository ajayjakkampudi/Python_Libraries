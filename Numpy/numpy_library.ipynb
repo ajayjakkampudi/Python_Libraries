{
 "cells": [
  {
   "cell_type": "code",
   "execution_count": 1,
   "metadata": {},
   "outputs": [],
   "source": [
    "import numpy as np"
   ]
  },
  {
   "attachments": {},
   "cell_type": "markdown",
   "metadata": {},
   "source": [
    "### **Array Creation Methods**"
   ]
  },
  {
   "attachments": {},
   "cell_type": "markdown",
   "metadata": {},
   "source": [
    "1. Array\n",
    "    It is used to create one-dimensional or multidimensional arrays from scratch.\n",
    "\n",
    "    array(object,dtype==None, * ,copy=True, order='K',subok=False, ndmin=0)\n",
    "\n",
    "    Important params:\n",
    "\n",
    "    dtype: desired data type for the resultant array.\n",
    "\n",
    "    ndim: Specify the minimum number of dimensions for the resultant array."
   ]
  },
  {
   "cell_type": "code",
   "execution_count": 9,
   "metadata": {},
   "outputs": [
    {
     "name": "stdout",
     "output_type": "stream",
     "text": [
      "[[[[2 3 4]\n",
      "   [9 0 7]]]]\n",
      "(1, 1, 2, 3)\n"
     ]
    }
   ],
   "source": [
    "A=np.array([[2,3,4],[9,0,7]],ndmin=4)\n",
    "print(A)\n",
    "print(A.shape)"
   ]
  },
  {
   "attachments": {},
   "cell_type": "markdown",
   "metadata": {},
   "source": [
    "2. Linspace\n",
    "    \n",
    "    Creates an array with evenly spaced float numbers over a specified interval.\n",
    "\n",
    "    np.linspace(start,stop,num=50,endpoint=True,retstep=False, dtype= None,axis=0)\n",
    "\n",
    "    Parameters:\n",
    "    \n",
    "    num : number of samples generated"
   ]
  },
  {
   "cell_type": "code",
   "execution_count": 13,
   "metadata": {},
   "outputs": [
    {
     "name": "stdout",
     "output_type": "stream",
     "text": [
      "[ 2.          2.88888889  3.77777778  4.66666667  5.55555556  6.44444444\n",
      "  7.33333333  8.22222222  9.11111111 10.        ]\n"
     ]
    }
   ],
   "source": [
    "B=np.linspace(2,10,num=10)\n",
    "print(B)"
   ]
  },
  {
   "attachments": {},
   "cell_type": "markdown",
   "metadata": {},
   "source": [
    "3. Arange\n",
    "\n",
    "    np.arange(start,stop,step,dtype=None)"
   ]
  },
  {
   "cell_type": "code",
   "execution_count": 14,
   "metadata": {},
   "outputs": [
    {
     "name": "stdout",
     "output_type": "stream",
     "text": [
      "[2 4 6]\n"
     ]
    }
   ],
   "source": [
    "print(np.arange(2,7,2))"
   ]
  },
  {
   "attachments": {},
   "cell_type": "markdown",
   "metadata": {},
   "source": [
    "4. Uniform Samples\n",
    "\n",
    "    Generate a random sample from a uniform distribution between lower and higher limit values.\n",
    "\n",
    "    np.uniform(low=0.0,high=1.0,size=None)"
   ]
  },
  {
   "cell_type": "code",
   "execution_count": 22,
   "metadata": {},
   "outputs": [
    {
     "name": "stdout",
     "output_type": "stream",
     "text": [
      "[[2.79847964 5.74333988 5.1225801 ]\n",
      " [2.72063549 3.55097321 3.54267736]\n",
      " [7.22874074 7.75969988 5.92129706]\n",
      " [3.63547323 8.83416704 4.94346268]\n",
      " [5.91333335 7.38899009 2.26123685]\n",
      " [4.76111206 5.35818548 5.41215464]\n",
      " [3.93723337 7.52964241 2.55421832]\n",
      " [3.10537053 7.2092236  7.44709306]]\n"
     ]
    }
   ],
   "source": [
    "print(np.random.uniform(2,10,size=(8,3)))"
   ]
  },
  {
   "attachments": {},
   "cell_type": "markdown",
   "metadata": {},
   "source": [
    "5. Random.randint\n",
    "    \n",
    "    Generate n random integer samples within a range.\n",
    "\n",
    "    np.random.randint(low,high=None,size=None,dtype=int)"
   ]
  },
  {
   "cell_type": "code",
   "execution_count": 32,
   "metadata": {},
   "outputs": [
    {
     "name": "stdout",
     "output_type": "stream",
     "text": [
      "[[7 7]\n",
      " [3 4]]\n"
     ]
    }
   ],
   "source": [
    "print(np.random.randint(3,10,size=(2,2)))"
   ]
  },
  {
   "attachments": {},
   "cell_type": "markdown",
   "metadata": {},
   "source": [
    "6. Random.random\n",
    "   \n",
    "    Generate n random float samples."
   ]
  },
  {
   "cell_type": "code",
   "execution_count": 24,
   "metadata": {},
   "outputs": [
    {
     "name": "stdout",
     "output_type": "stream",
     "text": [
      "[[0.16129487 0.43255032 0.3940224 ]\n",
      " [0.8792846  0.53197059 0.56990929]\n",
      " [0.09089005 0.73829868 0.99274349]]\n"
     ]
    }
   ],
   "source": [
    "print(np.random.random((3,3)))"
   ]
  },
  {
   "attachments": {},
   "cell_type": "markdown",
   "metadata": {},
   "source": [
    "7. Array of zeroes, ones and identity"
   ]
  },
  {
   "cell_type": "code",
   "execution_count": 29,
   "metadata": {},
   "outputs": [
    {
     "name": "stdout",
     "output_type": "stream",
     "text": [
      "[[0 0 0]\n",
      " [0 0 0]]\n",
      "[[1. 1. 1.]\n",
      " [1. 1. 1.]]\n",
      "[[1. 0. 0. 0. 0.]\n",
      " [0. 1. 0. 0. 0.]\n",
      " [0. 0. 1. 0. 0.]\n",
      " [0. 0. 0. 1. 0.]\n",
      " [0. 0. 0. 0. 1.]]\n"
     ]
    }
   ],
   "source": [
    "print(np.zeros((2,3),dtype='int'))\n",
    "print(np.ones((2,3)))\n",
    "print(np.identity(5))"
   ]
  },
  {
   "attachments": {},
   "cell_type": "markdown",
   "metadata": {},
   "source": [
    "8. Array of K random values\n",
    "\n",
    "    np.full(shape,fill_value,dtype=None)"
   ]
  },
  {
   "cell_type": "code",
   "execution_count": 28,
   "metadata": {},
   "outputs": [
    {
     "data": {
      "text/plain": [
       "array([[3, 3],\n",
       "       [3, 3]])"
      ]
     },
     "execution_count": 28,
     "metadata": {},
     "output_type": "execute_result"
    }
   ],
   "source": [
    "np.full((2,2),3)"
   ]
  },
  {
   "attachments": {},
   "cell_type": "markdown",
   "metadata": {},
   "source": [
    "9. Reshape"
   ]
  },
  {
   "cell_type": "code",
   "execution_count": 43,
   "metadata": {},
   "outputs": [
    {
     "name": "stdout",
     "output_type": "stream",
     "text": [
      "[[[[26  5 19]]\n",
      "\n",
      "  [[ 6 26 32]]]\n",
      "\n",
      "\n",
      " [[[16 11 20]]\n",
      "\n",
      "  [[21 22  4]]]]\n",
      "[26  5 19  6 26 32 16 11 20 21 22  4]\n"
     ]
    }
   ],
   "source": [
    "A=np.random.randint(2,40,size=(2,6))\n",
    "print(A.reshape(2,2,-1,3))\n",
    "print(A.reshape(-1))"
   ]
  },
  {
   "attachments": {},
   "cell_type": "markdown",
   "metadata": {},
   "source": [
    "10. Expand Dimensions\n"
   ]
  },
  {
   "cell_type": "code",
   "execution_count": 50,
   "metadata": {},
   "outputs": [
    {
     "data": {
      "text/plain": [
       "array([[[2, 3, 4],\n",
       "        [9, 0, 9]]])"
      ]
     },
     "execution_count": 50,
     "metadata": {},
     "output_type": "execute_result"
    }
   ],
   "source": [
    "arr=np.array([[2,3,4],[9,0,9]])\n",
    "np.expand_dims(arr,axis=0)"
   ]
  },
  {
   "attachments": {},
   "cell_type": "markdown",
   "metadata": {},
   "source": [
    "11. Squeeze"
   ]
  },
  {
   "cell_type": "code",
   "execution_count": 59,
   "metadata": {},
   "outputs": [
    {
     "data": {
      "text/plain": [
       "array([1, 2, 3])"
      ]
     },
     "execution_count": 59,
     "metadata": {},
     "output_type": "execute_result"
    }
   ],
   "source": [
    "s=np.array([[1],[2],[3]])\n",
    "s.squeeze(axis=1)"
   ]
  },
  {
   "attachments": {},
   "cell_type": "markdown",
   "metadata": {},
   "source": [
    "22. argwhere\n",
    "\n",
    "    Find and return all the indices of non-zero elements."
   ]
  },
  {
   "cell_type": "code",
   "execution_count": 60,
   "metadata": {},
   "outputs": [
    {
     "data": {
      "text/plain": [
       "array([[0, 0],\n",
       "       [0, 1],\n",
       "       [2, 0],\n",
       "       [2, 1]], dtype=int64)"
      ]
     },
     "execution_count": 60,
     "metadata": {},
     "output_type": "execute_result"
    }
   ],
   "source": [
    "A = np.array([[1,2],[0,0],[9,8]])\n",
    "np.argwhere(A)"
   ]
  },
  {
   "attachments": {},
   "cell_type": "markdown",
   "metadata": {},
   "source": [
    "23. argmin and argmax"
   ]
  },
  {
   "cell_type": "code",
   "execution_count": null,
   "metadata": {},
   "outputs": [],
   "source": []
  },
  {
   "cell_type": "markdown",
   "metadata": {},
   "source": []
  },
  {
   "attachments": {},
   "cell_type": "markdown",
   "metadata": {},
   "source": [
    "24. Any"
   ]
  },
  {
   "cell_type": "code",
   "execution_count": 85,
   "metadata": {},
   "outputs": [
    {
     "name": "stdout",
     "output_type": "stream",
     "text": [
      "[ True False]\n"
     ]
    }
   ],
   "source": [
    "A=np.any([[[False,False],[False,False]],[[True,False],[False,False]]],axis=(0,1))\n",
    "print(A)"
   ]
  },
  {
   "cell_type": "code",
   "execution_count": 83,
   "metadata": {},
   "outputs": [
    {
     "data": {
      "text/plain": [
       "array([[ True, False],\n",
       "       [False,  True]])"
      ]
     },
     "execution_count": 83,
     "metadata": {},
     "output_type": "execute_result"
    }
   ],
   "source": [
    "np.any([[[0,0],[0,1]],[[1,0],[0,0]]],axis=0)"
   ]
  },
  {
   "cell_type": "code",
   "execution_count": 84,
   "metadata": {},
   "outputs": [
    {
     "data": {
      "text/plain": [
       "array([[False, False]])"
      ]
     },
     "execution_count": 84,
     "metadata": {},
     "output_type": "execute_result"
    }
   ],
   "source": [
    "np.any([[[0,0],[0,0]]],axis=1)"
   ]
  },
  {
   "attachments": {},
   "cell_type": "markdown",
   "metadata": {},
   "source": [
    "25. Slicing"
   ]
  },
  {
   "cell_type": "code",
   "execution_count": 20,
   "metadata": {},
   "outputs": [
    {
     "name": "stdout",
     "output_type": "stream",
     "text": [
      "[[[50 99 51]\n",
      "  [86 88 63]]\n",
      "\n",
      " [[12 98 30]\n",
      "  [31 93 43]]\n",
      "\n",
      " [[67 11 74]\n",
      "  [65  4 69]]\n",
      "\n",
      " [[70 93  4]\n",
      "  [ 8 96 13]]]\n",
      "First Element: [[50 99 51]\n",
      " [86 88 63]]\n",
      "Slicing : [[[50 99 51]\n",
      "  [86 88 63]]]\n"
     ]
    }
   ],
   "source": [
    "s=np.random.randint(3,100,size=(4,2,3))\n",
    "print(s)\n",
    "print(\"First Element:\",s[0])         # Selects a particular element\n",
    "print(\"Slicing : {}\".format(s[0:1]))       # silces the array"
   ]
  },
  {
   "cell_type": "code",
   "execution_count": 21,
   "metadata": {},
   "outputs": [
    {
     "data": {
      "text/plain": [
       "array([[99, 51],\n",
       "       [98, 30]])"
      ]
     },
     "execution_count": 21,
     "metadata": {},
     "output_type": "execute_result"
    }
   ],
   "source": [
    "s[0:2,[0],[1,2]]"
   ]
  },
  {
   "cell_type": "code",
   "execution_count": null,
   "metadata": {},
   "outputs": [],
   "source": []
  }
 ],
 "metadata": {
  "kernelspec": {
   "display_name": "base",
   "language": "python",
   "name": "python3"
  },
  "language_info": {
   "codemirror_mode": {
    "name": "ipython",
    "version": 3
   },
   "file_extension": ".py",
   "mimetype": "text/x-python",
   "name": "python",
   "nbconvert_exporter": "python",
   "pygments_lexer": "ipython3",
   "version": "3.9.13"
  },
  "orig_nbformat": 4
 },
 "nbformat": 4,
 "nbformat_minor": 2
}

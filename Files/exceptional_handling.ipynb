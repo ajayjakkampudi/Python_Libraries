{
 "cells": [
  {
   "cell_type": "markdown",
   "metadata": {},
   "source": [
    "### **Exceptional Handling**"
   ]
  },
  {
   "cell_type": "code",
   "execution_count": 2,
   "metadata": {},
   "outputs": [
    {
     "name": "stdout",
     "output_type": "stream",
     "text": [
      "Enter Number: \n",
      "invalid literal for int() with base 10: 'ert'\n"
     ]
    }
   ],
   "source": [
    "print(\"Enter Number: \")\n",
    "x=input()\n",
    "try:\n",
    "    print(\"The Number is\",int(x))\n",
    "except Exception as e:\n",
    "    print(e)\n"
   ]
  },
  {
   "cell_type": "code",
   "execution_count": 8,
   "metadata": {},
   "outputs": [
    {
     "name": "stdout",
     "output_type": "stream",
     "text": [
      "[Errno 2] No such file or directory: 'file.txt'\n",
      "Code was successful\n"
     ]
    }
   ],
   "source": [
    "try:\n",
    "    f=open(\"file.txt\")\n",
    "# except FileNotFoundError as q:\n",
    "#     print(q)\n",
    "except Exception as e:\n",
    "    # This statement runs if file is not found or any other issues\n",
    "    print(e)\n",
    "else:\n",
    "    # Else no exceptions this statement is executed\n",
    "    print(f.read())\n",
    "finally:\n",
    "    # This statement runs if the code is successful or unsuccessful\n",
    "    print(\"Code was successful\")"
   ]
  },
  {
   "cell_type": "markdown",
   "metadata": {},
   "source": [
    "### **Python Assert**\n",
    "Python provides the assert statement to check if a given logical expression is true or false. Program execution proceeds only if the expression is true and raises the AssertionError when it is false. \n",
    "\n",
    "The following code shows the usage of the assert statement."
   ]
  },
  {
   "cell_type": "code",
   "execution_count": 1,
   "metadata": {},
   "outputs": [],
   "source": [
    "x=10\n",
    "assert x>5\n",
    "# No output it shown only executes"
   ]
  },
  {
   "cell_type": "code",
   "execution_count": 2,
   "metadata": {},
   "outputs": [
    {
     "ename": "AssertionError",
     "evalue": "",
     "output_type": "error",
     "traceback": [
      "\u001b[1;31m---------------------------------------------------------------------------\u001b[0m",
      "\u001b[1;31mAssertionError\u001b[0m                            Traceback (most recent call last)",
      "\u001b[1;32mc:\\Users\\J Narasimha Rao\\Desktop\\Python\\Python Libraries\\Files\\exceptional_handling.ipynb Cell 5\u001b[0m in \u001b[0;36m<cell line: 1>\u001b[1;34m()\u001b[0m\n\u001b[1;32m----> <a href='vscode-notebook-cell:/c%3A/Users/J%20Narasimha%20Rao/Desktop/Python/Python%20Libraries/Files/exceptional_handling.ipynb#ch0000004?line=0'>1</a>\u001b[0m \u001b[39massert\u001b[39;00m x\u001b[39m>\u001b[39m\u001b[39m20\u001b[39m\n",
      "\u001b[1;31mAssertionError\u001b[0m: "
     ]
    }
   ],
   "source": [
    "assert x>20\n",
    "# Raises assertionError"
   ]
  },
  {
   "cell_type": "code",
   "execution_count": 6,
   "metadata": {},
   "outputs": [
    {
     "name": "stdout",
     "output_type": "stream",
     "text": [
      "This number is not greater than 20\n"
     ]
    }
   ],
   "source": [
    "try:\n",
    "    x=int(input(\"Enter Number : \"))\n",
    "    assert x>20\n",
    "    print(\"Number is greater than 20\")\n",
    "except AssertionError:\n",
    "    print(\"This number is not greater than 20\")"
   ]
  }
 ],
 "metadata": {
  "kernelspec": {
   "display_name": "Python 3.8.9 64-bit",
   "language": "python",
   "name": "python3"
  },
  "language_info": {
   "codemirror_mode": {
    "name": "ipython",
    "version": 3
   },
   "file_extension": ".py",
   "mimetype": "text/x-python",
   "name": "python",
   "nbconvert_exporter": "python",
   "pygments_lexer": "ipython3",
   "version": "3.8.9"
  },
  "orig_nbformat": 4,
  "vscode": {
   "interpreter": {
    "hash": "e6304c2455b6c832b9b93396a37f88edc7088e879a4a08232929e226309c5e3f"
   }
  }
 },
 "nbformat": 4,
 "nbformat_minor": 2
}

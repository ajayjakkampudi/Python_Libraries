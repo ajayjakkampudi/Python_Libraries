{
 "cells": [
  {
   "cell_type": "code",
   "execution_count": 8,
   "metadata": {},
   "outputs": [],
   "source": [
    "file=open('third.txt','x')\n",
    "file.close()\n"
   ]
  },
  {
   "cell_type": "code",
   "execution_count": 17,
   "metadata": {},
   "outputs": [
    {
     "name": "stdout",
     "output_type": "stream",
     "text": [
      "someone Iop\n",
      "thingkl rfty\n",
      "qwedsa\n",
      "\n"
     ]
    }
   ],
   "source": [
    "f=open('third.txt','r')\n",
    "print(f.read())\n",
    "print(f.read(1))\n",
    "f.close()\n"
   ]
  },
  {
   "cell_type": "code",
   "execution_count": 22,
   "metadata": {},
   "outputs": [
    {
     "name": "stdout",
     "output_type": "stream",
     "text": [
      "someone Iop\n",
      "thin\n",
      "gkl\n"
     ]
    }
   ],
   "source": [
    "f2=open('third.txt','r')\n",
    "print(f2.read(16))\n",
    "print(f2.read(3))\n",
    "f.close()"
   ]
  }
 ],
 "metadata": {
  "interpreter": {
   "hash": "f2c932cd836e283c8bc7d416cb1a4e7c7155bdd32ba5fe0b07246016a97a7832"
  },
  "kernelspec": {
   "display_name": "Python 3.9.7 ('python_libraries')",
   "language": "python",
   "name": "python3"
  },
  "language_info": {
   "codemirror_mode": {
    "name": "ipython",
    "version": 3
   },
   "file_extension": ".py",
   "mimetype": "text/x-python",
   "name": "python",
   "nbconvert_exporter": "python",
   "pygments_lexer": "ipython3",
   "version": "3.9.7"
  },
  "orig_nbformat": 4
 },
 "nbformat": 4,
 "nbformat_minor": 2
}

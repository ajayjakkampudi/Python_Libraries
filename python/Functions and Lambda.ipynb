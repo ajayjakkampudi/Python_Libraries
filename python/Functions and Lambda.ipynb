{
 "cells": [
  {
   "cell_type": "markdown",
   "metadata": {},
   "source": [
    "### **Function**"
   ]
  },
  {
   "cell_type": "code",
   "execution_count": 1,
   "metadata": {},
   "outputs": [
    {
     "name": "stdout",
     "output_type": "stream",
     "text": [
      "3.5\n"
     ]
    }
   ],
   "source": [
    "# General syntax of function\n",
    "def func(x: int,y: int) -> str:\n",
    "    print(str(x/y))\n",
    "    \n",
    "func(7,2)"
   ]
  },
  {
   "cell_type": "markdown",
   "metadata": {},
   "source": [
    "\n",
    "Arbitrary Arguments, *args:\n",
    "\n",
    "If you do not know how many arguments that will be passed into your function, add a * before the parameter name in the function definition.\n",
    "\n",
    "This way the function will receive a tuple of arguments"
   ]
  },
  {
   "cell_type": "code",
   "execution_count": 3,
   "metadata": {},
   "outputs": [
    {
     "name": "stdout",
     "output_type": "stream",
     "text": [
      "25.2\n"
     ]
    }
   ],
   "source": [
    "def numbers(*num):\n",
    "    sum=0\n",
    "    for i in num:\n",
    "        sum+=i\n",
    "    return sum\n",
    "        \n",
    "print(numbers(0,8,9,-89,98,-0.8,-0))"
   ]
  },
  {
   "cell_type": "markdown",
   "metadata": {},
   "source": [
    "Arbitrary Keyword Arguments, **kwargs:\n",
    "\n",
    "If you do not know how many keyword arguments that will be passed into your function, add two asterisk: ** before the parameter name in the function definition.\n",
    "\n",
    "This way the function will receive a dictionary of arguments,"
   ]
  },
  {
   "cell_type": "code",
   "execution_count": 5,
   "metadata": {},
   "outputs": [
    {
     "name": "stdout",
     "output_type": "stream",
     "text": [
      "His last name is Refsnes\n"
     ]
    }
   ],
   "source": [
    "def my_function(**kid):\n",
    "  print(\"His last name is \" + kid[\"lname\"])\n",
    "\n",
    "my_function(fname = \"Tobias\", lname = \"Refsnes\")"
   ]
  },
  {
   "cell_type": "code",
   "execution_count": 7,
   "metadata": {},
   "outputs": [
    {
     "name": "stdout",
     "output_type": "stream",
     "text": [
      "138.77777777777777\n"
     ]
    }
   ],
   "source": [
    "# default arguments and assigning other with =\n",
    "def funs(a,b,c,x=9):\n",
    "    return a*b/c-x\n",
    "\n",
    "# function definitions cannot be empty, \n",
    "## but if you for some reason have a function definition with no content, put in the pass statement to avoid getting an error.\n",
    "def empty():\n",
    "    pass\n",
    "\n",
    "print(funs(c=9,b=190,a=7))"
   ]
  },
  {
   "cell_type": "markdown",
   "metadata": {},
   "source": [
    "#### **Docstring**"
   ]
  },
  {
   "cell_type": "code",
   "execution_count": 4,
   "metadata": {},
   "outputs": [
    {
     "name": "stdout",
     "output_type": "stream",
     "text": [
      "Function to check if the number is even or odd\n"
     ]
    }
   ],
   "source": [
    "def evenOdd(x):\n",
    "    \"\"\"Function to check if the number is even or odd\"\"\"\n",
    "     \n",
    "    if (x % 2 == 0):\n",
    "        print(\"even\")\n",
    "    else:\n",
    "        print(\"odd\")\n",
    " \n",
    " \n",
    "# Prints the docstring in the function\n",
    "print(evenOdd.__doc__)"
   ]
  },
  {
   "cell_type": "markdown",
   "metadata": {},
   "source": [
    "#### **Python function within function**"
   ]
  },
  {
   "cell_type": "code",
   "execution_count": 5,
   "metadata": {},
   "outputs": [
    {
     "name": "stdout",
     "output_type": "stream",
     "text": [
      "I love GeeksforGeeks\n"
     ]
    }
   ],
   "source": [
    "def f1():\n",
    "    s = 'I love GeeksforGeeks'\n",
    "     \n",
    "    def f2():\n",
    "        print(s)\n",
    "         \n",
    "    f2()\n",
    "\n",
    "f1()"
   ]
  },
  {
   "cell_type": "markdown",
   "metadata": {},
   "source": [
    "#### **Pass by Reference and Pass by Value**\n",
    "One important thing to note is, in Python every variable name is a reference. When we pass a variable to a function, a new reference to the object is created. Parameter passing in Python is the same as reference passing in Java."
   ]
  },
  {
   "cell_type": "code",
   "execution_count": 6,
   "metadata": {},
   "outputs": [
    {
     "name": "stdout",
     "output_type": "stream",
     "text": [
      "[20, 11, 12, 13, 14, 15]\n"
     ]
    }
   ],
   "source": [
    "# Here x is a new reference to same list lst\n",
    "def myFun(x):\n",
    "\tx[0] = 20\n",
    "\n",
    "lst = [10, 11, 12, 13, 14, 15]\n",
    "myFun(lst)\n",
    "print(lst)\n"
   ]
  },
  {
   "cell_type": "markdown",
   "metadata": {},
   "source": [
    "When we pass a reference and change the received reference to something else, the connection between the passed and received parameter is broken."
   ]
  },
  {
   "cell_type": "code",
   "execution_count": 9,
   "metadata": {},
   "outputs": [
    {
     "name": "stdout",
     "output_type": "stream",
     "text": [
      "[20, 30, 40]\n",
      "[10, 11, 12, 13, 14, 15]\n"
     ]
    }
   ],
   "source": [
    "def myFun(x):\n",
    "\n",
    "    # After below line link of x with previous\n",
    "    # object gets broken. A new object is assigned\n",
    "    # to x.\n",
    "    x = [20, 30, 40]\n",
    "    print(x)\n",
    "\n",
    "lst = [10, 11, 12, 13, 14, 15]\n",
    "myFun(lst)\n",
    "print(lst)\n"
   ]
  },
  {
   "cell_type": "markdown",
   "metadata": {},
   "source": [
    "#### **Yeild**\n",
    "The yield statement suspends a function’s execution and sends a value back to the caller, but retains enough state to enable the function to resume where it left off. When the function resumes, it continues execution immediately after the last yield run. This allows its code to produce a series of values over time, rather than computing them at once and sending them back like a list.\n",
    "\n",
    "#### **Generator Function in Python**\n",
    "A generator function in Python is defined like a normal function, but whenever it needs to generate a value, it does so with the yield keyword rather than return. If the body of a def contains yield, the function automatically becomes a Python generator function. \n",
    "\n"
   ]
  },
  {
   "cell_type": "code",
   "execution_count": 3,
   "metadata": {},
   "outputs": [
    {
     "name": "stdout",
     "output_type": "stream",
     "text": [
      "<generator object simpleGeneratorFun at 0x000002526C5A25E0>\n",
      "1\n",
      "2\n",
      "3\n",
      "1\n",
      "2\n"
     ]
    }
   ],
   "source": [
    "# A generator function that yields 1 for the first time,\n",
    "# 2 second time and 3 third time\n",
    "\n",
    "def simpleGeneratorFun():\n",
    "\tyield 1\n",
    "\tyield 2\n",
    "\tyield 3\n",
    "\n",
    "print(simpleGeneratorFun())\n",
    "\n",
    "for value in simpleGeneratorFun():\n",
    "\tprint(value)\n",
    " \n",
    "sg = simpleGeneratorFun()\n",
    "print(next(sg)) \n",
    "print(next(sg)) \n",
    "\n"
   ]
  },
  {
   "cell_type": "code",
   "execution_count": 5,
   "metadata": {},
   "outputs": [
    {
     "data": {
      "text/plain": [
       "184"
      ]
     },
     "execution_count": 5,
     "metadata": {},
     "output_type": "execute_result"
    }
   ],
   "source": [
    "import sys\n",
    "y = []\n",
    "def x():\n",
    "    for i in range(10):\n",
    "        y.append(i)\n",
    "    return y\n",
    "sys.getsizeof(x())\n",
    "sys.getsizeof(y)"
   ]
  },
  {
   "cell_type": "code",
   "execution_count": 7,
   "metadata": {},
   "outputs": [
    {
     "name": "stdout",
     "output_type": "stream",
     "text": [
      "0\n",
      "1\n",
      "2\n",
      "3\n",
      "104\n"
     ]
    }
   ],
   "source": [
    "def generator():\n",
    "    for i in range(10):\n",
    "        yield i\n",
    "\n",
    "# Printing using for loop\n",
    "# for i in generator():\n",
    "#     print(i)\n",
    "\n",
    "# iterating using next()\n",
    "gen = generator()\n",
    "print(next(gen))\n",
    "print(next(gen))\n",
    "print(next(gen))\n",
    "print(next(gen))\n",
    "print(sys.getsizeof(generator()))"
   ]
  },
  {
   "cell_type": "code",
   "execution_count": 10,
   "metadata": {},
   "outputs": [
    {
     "name": "stdout",
     "output_type": "stream",
     "text": [
      "0\n",
      "10\n",
      "20\n"
     ]
    }
   ],
   "source": [
    "# generator expression \n",
    "generator_exp = (i * 5 for i in range(5) if i%2==0) \n",
    "\n",
    "for i in generator_exp: \n",
    "\tprint(i)"
   ]
  },
  {
   "cell_type": "markdown",
   "metadata": {},
   "source": [
    "### **Lambda**\n",
    "\n",
    "A lambda function is a small anonymous function. A lambda function can take any number of arguments, but can only have one expression."
   ]
  },
  {
   "cell_type": "code",
   "execution_count": 8,
   "metadata": {},
   "outputs": [
    {
     "name": "stdout",
     "output_type": "stream",
     "text": [
      "256\n"
     ]
    }
   ],
   "source": [
    "x = lambda a: a**a\n",
    "print(x(4))"
   ]
  },
  {
   "cell_type": "code",
   "execution_count": 10,
   "metadata": {},
   "outputs": [
    {
     "name": "stdout",
     "output_type": "stream",
     "text": [
      "odd\n"
     ]
    }
   ],
   "source": [
    "sum=0\n",
    "y = lambda c: \"even\" if c%2==0 else \"odd\"\n",
    "print(y(99))"
   ]
  },
  {
   "cell_type": "code",
   "execution_count": 11,
   "metadata": {},
   "outputs": [
    {
     "name": "stdout",
     "output_type": "stream",
     "text": [
      "22\n"
     ]
    }
   ],
   "source": [
    "# The power of lambda is better shown when you use them as an anonymous function inside another function.\n",
    "# Say you have a function definition that takes one argument, and that argument will be multiplied with an unknown number:\n",
    "def myfunc(n):\n",
    "  return lambda a : a * n\n",
    "\n",
    "mydoubler = myfunc(2)\n",
    "\n",
    "print(mydoubler(11))\n"
   ]
  },
  {
   "cell_type": "code",
   "execution_count": 5,
   "metadata": {},
   "outputs": [
    {
     "name": "stdout",
     "output_type": "stream",
     "text": [
      " GFG\n",
      " GFGLook for Geeksforgeeks Python Section\n",
      " GFGLook for Geeksforgeeks Python Section\n"
     ]
    }
   ],
   "source": [
    "\n",
    "\n",
    "# This function modifies the global variable 's'\n",
    "def f():\n",
    "    global s\n",
    "    s = ' GFG'\n",
    "    print(s)\n",
    "    s += \"Look for Geeksforgeeks Python Section\"\n",
    "    print(s) \n",
    " \n",
    "# Global Scope\n",
    "# s = \"Python is great!\"\n",
    "f()\n",
    "print(s)"
   ]
  },
  {
   "cell_type": "code",
   "execution_count": 11,
   "metadata": {},
   "outputs": [
    {
     "name": "stdout",
     "output_type": "stream",
     "text": [
      "20\n"
     ]
    }
   ],
   "source": [
    "a = 15\n",
    "\n",
    "\n",
    "# function to change a global value\n",
    "def change():\n",
    "\t# increment value of a by 5\n",
    "\t# global a by using this we can implement the code without error\n",
    "\t# we can also use argument without error\n",
    "\tb = a + 5\n",
    "\ta = b\n",
    "\tprint(a)\n",
    "\n",
    "\n",
    "change()\n"
   ]
  },
  {
   "cell_type": "code",
   "execution_count": 63,
   "metadata": {},
   "outputs": [
    {
     "data": {
      "text/plain": [
       "2552942035248"
      ]
     },
     "execution_count": 63,
     "metadata": {},
     "output_type": "execute_result"
    }
   ],
   "source": [
    "# global a\n",
    "a = 3\n",
    "id(a)"
   ]
  },
  {
   "cell_type": "code",
   "execution_count": 64,
   "metadata": {},
   "outputs": [
    {
     "data": {
      "text/plain": [
       "2552942035216"
      ]
     },
     "execution_count": 64,
     "metadata": {},
     "output_type": "execute_result"
    }
   ],
   "source": [
    "b = 2\n",
    "id(b)"
   ]
  },
  {
   "cell_type": "code",
   "execution_count": 65,
   "metadata": {},
   "outputs": [
    {
     "data": {
      "text/plain": [
       "False"
      ]
     },
     "execution_count": 65,
     "metadata": {},
     "output_type": "execute_result"
    }
   ],
   "source": [
    "a is b"
   ]
  },
  {
   "cell_type": "code",
   "execution_count": 67,
   "metadata": {},
   "outputs": [
    {
     "data": {
      "text/plain": [
       "False"
      ]
     },
     "execution_count": 67,
     "metadata": {},
     "output_type": "execute_result"
    }
   ],
   "source": [
    "a = []\n",
    "b = []\n",
    "a is b"
   ]
  },
  {
   "cell_type": "code",
   "execution_count": 69,
   "metadata": {},
   "outputs": [
    {
     "name": "stdout",
     "output_type": "stream",
     "text": [
      "2553028872512\n",
      "2553049220992\n"
     ]
    }
   ],
   "source": [
    "print(id(b))\n",
    "print(id(a))"
   ]
  },
  {
   "cell_type": "code",
   "execution_count": 66,
   "metadata": {},
   "outputs": [
    {
     "name": "stdout",
     "output_type": "stream",
     "text": [
      "Address of a after first assignment: 2552942035248\n",
      "Address of a after second assignment: 2552942035248\n"
     ]
    }
   ],
   "source": [
    "a = 3\n",
    "print(\"Address of a after first assignment:\", id(a))\n",
    "\n",
    "a = 3\n",
    "print(\"Address of a after second assignment:\", id(a))\n"
   ]
  },
  {
   "cell_type": "code",
   "execution_count": null,
   "metadata": {},
   "outputs": [],
   "source": []
  }
 ],
 "metadata": {
  "kernelspec": {
   "display_name": "base",
   "language": "python",
   "name": "python3"
  },
  "language_info": {
   "codemirror_mode": {
    "name": "ipython",
    "version": 3
   },
   "file_extension": ".py",
   "mimetype": "text/x-python",
   "name": "python",
   "nbconvert_exporter": "python",
   "pygments_lexer": "ipython3",
   "version": "3.10.9"
  },
  "orig_nbformat": 4
 },
 "nbformat": 4,
 "nbformat_minor": 2
}

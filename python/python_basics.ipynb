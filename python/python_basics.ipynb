{
 "cells": [
  {
   "cell_type": "markdown",
   "metadata": {},
   "source": [
    "### **Basics**"
   ]
  },
  {
   "cell_type": "code",
   "execution_count": 8,
   "metadata": {},
   "outputs": [
    {
     "name": "stdout",
     "output_type": "stream",
     "text": [
      "Python 1 awesome\n",
      "Ajay J\n"
     ]
    }
   ],
   "source": [
    "# you output multiple variables, separated by a comma\n",
    "x = \"Python\"\n",
    "y = 1\n",
    "z = \"awesome\"\n",
    "print(x, y, z)\n",
    "\n",
    "# If data types are same then we can use +\n",
    "# when you try to combine a string and a number with the + operator, Python will give you an error\n",
    "\n",
    "# Printing with end\n",
    "# end = seperates two print values \n",
    "print(\"Ajay\",end=' ')\n",
    "print(\"J\")"
   ]
  },
  {
   "cell_type": "code",
   "execution_count": 3,
   "metadata": {},
   "outputs": [
    {
     "name": "stdout",
     "output_type": "stream",
     "text": [
      "Sally\n"
     ]
    }
   ],
   "source": [
    "# Python has no command for declaring a variable.\n",
    "# A variable is created the moment you first assign a value to it.\n",
    "# Variables do not need to be declared with any particular type, and can even change type after they have been set.\n",
    "x = 4       # x is of type int\n",
    "x = \"Sally\" # x is now of type str\n",
    "print(x)"
   ]
  },
  {
   "cell_type": "code",
   "execution_count": 4,
   "metadata": {},
   "outputs": [
    {
     "name": "stdout",
     "output_type": "stream",
     "text": [
      "<class 'float'>\n"
     ]
    }
   ],
   "source": [
    "# Casting\n",
    "x, y, z = str(3), int(3), float(3)  # x will be '3', y will be 3, z will be 3.0\n",
    "print(type(z))  # prints the type z"
   ]
  },
  {
   "cell_type": "code",
   "execution_count": 7,
   "metadata": {},
   "outputs": [
    {
     "data": {
      "text/plain": [
       "4"
      ]
     },
     "execution_count": 7,
     "metadata": {},
     "output_type": "execute_result"
    }
   ],
   "source": [
    "# Variable names are case-sensitive.\n",
    "a = 4\n",
    "A = \"Sally\"\n",
    "#A will not overwrite a\n",
    "a"
   ]
  },
  {
   "cell_type": "markdown",
   "metadata": {},
   "source": [
    "### **Input**"
   ]
  },
  {
   "cell_type": "code",
   "execution_count": 1,
   "metadata": {},
   "outputs": [
    {
     "name": "stdout",
     "output_type": "stream",
     "text": [
      "r\n",
      "t\n",
      "3\n",
      "rty\n"
     ]
    }
   ],
   "source": [
    "for i in range(4):\n",
    "    x = input()\n",
    "    print(x)"
   ]
  },
  {
   "cell_type": "markdown",
   "metadata": {},
   "source": [
    "Variable Names:\n",
    "1. A variable name must start with a letter or the underscore character\n",
    "2. A variable name cannot start with a number\n",
    "3. A variable name can only contain alpha-numeric characters and underscores (A-z, 0-9, and _ )\n",
    "4. Variable names are case-sensitive (age, Age and AGE are three different variables)\n",
    "5. A variable name cannot be any of the Python keywords."
   ]
  },
  {
   "cell_type": "code",
   "execution_count": null,
   "metadata": {},
   "outputs": [],
   "source": [
    "# Python allows you to assign values to multiple variables in one line\n",
    "x, y, z = \"Orange\", \"Banana\", \"Cherry\"\n",
    "\n",
    "# And you can assign the same value to multiple variables in one line\n",
    "x = y = z = \"Orange\"\n",
    "\n",
    "# If you have a collection of values in a list, tuple etc. Python allows you to extract the values into variables. This is called unpacking.\n",
    "fruits = [\"apple\", \"banana\", \"cherry\"]\n",
    "x, y, z = fruits"
   ]
  },
  {
   "cell_type": "markdown",
   "metadata": {},
   "source": [
    "### **Global Keyword**\n"
   ]
  },
  {
   "cell_type": "code",
   "execution_count": 8,
   "metadata": {},
   "outputs": [
    {
     "ename": "UnboundLocalError",
     "evalue": "local variable 'x' referenced before assignment",
     "output_type": "error",
     "traceback": [
      "\u001b[1;31m---------------------------------------------------------------------------\u001b[0m",
      "\u001b[1;31mUnboundLocalError\u001b[0m                         Traceback (most recent call last)",
      "\u001b[1;32mc:\\Users\\J Narasimha Rao\\Desktop\\Python\\Python Libraries\\python\\python_basics.ipynb Cell 11\u001b[0m line \u001b[0;36m9\n\u001b[0;32m      <a href='vscode-notebook-cell:/c%3A/Users/J%20Narasimha%20Rao/Desktop/Python/Python%20Libraries/python/python_basics.ipynb#Y122sZmlsZQ%3D%3D?line=5'>6</a>\u001b[0m     \u001b[39m# x = b\u001b[39;00m\n\u001b[0;32m      <a href='vscode-notebook-cell:/c%3A/Users/J%20Narasimha%20Rao/Desktop/Python/Python%20Libraries/python/python_basics.ipynb#Y122sZmlsZQ%3D%3D?line=6'>7</a>\u001b[0m     \u001b[39mprint\u001b[39m(\u001b[39m\"\u001b[39m\u001b[39mPython is \u001b[39m\u001b[39m\"\u001b[39m \u001b[39m+\u001b[39m x)\n\u001b[1;32m----> <a href='vscode-notebook-cell:/c%3A/Users/J%20Narasimha%20Rao/Desktop/Python/Python%20Libraries/python/python_basics.ipynb#Y122sZmlsZQ%3D%3D?line=8'>9</a>\u001b[0m myfunc()\n\u001b[0;32m     <a href='vscode-notebook-cell:/c%3A/Users/J%20Narasimha%20Rao/Desktop/Python/Python%20Libraries/python/python_basics.ipynb#Y122sZmlsZQ%3D%3D?line=10'>11</a>\u001b[0m \u001b[39mprint\u001b[39m(\u001b[39m\"\u001b[39m\u001b[39mPython is \u001b[39m\u001b[39m\"\u001b[39m \u001b[39m+\u001b[39m x)\n",
      "\u001b[1;32mc:\\Users\\J Narasimha Rao\\Desktop\\Python\\Python Libraries\\python\\python_basics.ipynb Cell 11\u001b[0m line \u001b[0;36m5\n\u001b[0;32m      <a href='vscode-notebook-cell:/c%3A/Users/J%20Narasimha%20Rao/Desktop/Python/Python%20Libraries/python/python_basics.ipynb#Y122sZmlsZQ%3D%3D?line=2'>3</a>\u001b[0m \u001b[39mdef\u001b[39;00m \u001b[39mmyfunc\u001b[39m():\n\u001b[0;32m      <a href='vscode-notebook-cell:/c%3A/Users/J%20Narasimha%20Rao/Desktop/Python/Python%20Libraries/python/python_basics.ipynb#Y122sZmlsZQ%3D%3D?line=3'>4</a>\u001b[0m     \u001b[39m# global x #\u001b[39;00m\n\u001b[1;32m----> <a href='vscode-notebook-cell:/c%3A/Users/J%20Narasimha%20Rao/Desktop/Python/Python%20Libraries/python/python_basics.ipynb#Y122sZmlsZQ%3D%3D?line=4'>5</a>\u001b[0m     x \u001b[39m=\u001b[39m \u001b[39m\"\u001b[39m\u001b[39mfantastic\u001b[39m\u001b[39m\"\u001b[39m \u001b[39m+\u001b[39m x\n\u001b[0;32m      <a href='vscode-notebook-cell:/c%3A/Users/J%20Narasimha%20Rao/Desktop/Python/Python%20Libraries/python/python_basics.ipynb#Y122sZmlsZQ%3D%3D?line=5'>6</a>\u001b[0m     \u001b[39m# x = b\u001b[39;00m\n\u001b[0;32m      <a href='vscode-notebook-cell:/c%3A/Users/J%20Narasimha%20Rao/Desktop/Python/Python%20Libraries/python/python_basics.ipynb#Y122sZmlsZQ%3D%3D?line=6'>7</a>\u001b[0m     \u001b[39mprint\u001b[39m(\u001b[39m\"\u001b[39m\u001b[39mPython is \u001b[39m\u001b[39m\"\u001b[39m \u001b[39m+\u001b[39m x)\n",
      "\u001b[1;31mUnboundLocalError\u001b[0m: local variable 'x' referenced before assignment"
     ]
    }
   ],
   "source": [
    "x = \"awesome\"\n",
    "\n",
    "def myfunc():\n",
    "    # global x #\n",
    "    x = \"fantastic\" + x\n",
    "    # x = b\n",
    "    print(\"Python is \" + x)\n",
    "\n",
    "myfunc()\n",
    "\n",
    "print(\"Python is \" + x)"
   ]
  },
  {
   "cell_type": "code",
   "execution_count": 9,
   "metadata": {},
   "outputs": [
    {
     "name": "stdout",
     "output_type": "stream",
     "text": [
      "Python is fantastic\n",
      "Python is fantastic\n"
     ]
    }
   ],
   "source": [
    "# Variables that are created outside of a function are known as global variables. Global variables can be used by everyone, both inside of functions and outside.\n",
    "\n",
    "# If you create a variable with the same name inside a function, this variable will be local, and can only be used inside the function. \n",
    "## The global variable with the same name will remain as it was, global and with the original value.\n",
    "x = \"awesome\"\n",
    "\n",
    "def myfunc():\n",
    "    global x #\n",
    "    x = \"fantastic\"\n",
    "    print(\"Python is \" + x)\n",
    "\n",
    "myfunc()\n",
    "\n",
    "print(\"Python is \" + x)"
   ]
  },
  {
   "cell_type": "markdown",
   "metadata": {},
   "source": [
    "### **Data Types**\n",
    "Variables can store data of different types, and different types can do different things.\n",
    "1. Text Type:\t    str\n",
    "2. Numeric Types:\tint, float, complex\n",
    "3. Sequence Types:\tlist, tuple, range\n",
    "4. Mapping Type:\tdict\n",
    "5. Set Types:\t    set, frozenset\n",
    "6. Boolean Type:\tbool\n",
    "7. Binary Types:\tbytes, bytearray, memoryview\n",
    "8. None Type:\t    NoneType"
   ]
  },
  {
   "cell_type": "markdown",
   "metadata": {},
   "source": [
    "### **Numeric Type**"
   ]
  },
  {
   "cell_type": "code",
   "execution_count": 12,
   "metadata": {},
   "outputs": [
    {
     "name": "stdout",
     "output_type": "stream",
     "text": [
      "0.6666666666666666\n",
      "1\n",
      "<class 'float'>\n",
      "<class 'float'>\n",
      "<class 'float'>\n"
     ]
    }
   ],
   "source": [
    "x = 1    # int\n",
    "y = 2.8  # float\n",
    "z = 1j   # complex\n",
    "\n",
    "print(2/3)  # Return float value\n",
    "print(int(3/2)) # return int value\n",
    "\n",
    "# Float can also be scientific numbers with an \"e\" to indicate the power of 10.\n",
    "x = 35e3\n",
    "y = 12E4\n",
    "z = -87.7e100\n",
    "\n",
    "print(type(x))\n",
    "print(type(y))\n",
    "print(type(z))"
   ]
  },
  {
   "cell_type": "markdown",
   "metadata": {},
   "source": [
    "### **Python Casting**"
   ]
  },
  {
   "cell_type": "code",
   "execution_count": null,
   "metadata": {},
   "outputs": [],
   "source": [
    "# int\n",
    "x = int(1)   # x will be 1\n",
    "y = int(2.8) # y will be 2\n",
    "z = int(\"3\") # z will be 3\n",
    "\n",
    "# float\n",
    "x = float(1)     # x will be 1.0\n",
    "y = float(2.8)   # y will be 2.8\n",
    "z = float(\"3\")   # z will be 3.0\n",
    "w = float(\"4.2\") # w will be 4.2\n",
    "\n",
    "# string\n",
    "x = str(\"s1\") # x will be 's1'\n",
    "y = str(2)    # y will be '2'\n",
    "z = str(3.0)  # z will be '3.0'"
   ]
  },
  {
   "cell_type": "markdown",
   "metadata": {},
   "source": [
    "### **Boolean**"
   ]
  },
  {
   "cell_type": "code",
   "execution_count": 14,
   "metadata": {},
   "outputs": [
    {
     "name": "stdout",
     "output_type": "stream",
     "text": [
      "True\n"
     ]
    }
   ],
   "source": [
    "# bool(False), bool(None), bool(0), bool(\"\"), bool(()), bool([]), bool({}) => Return False\n",
    "# Almost any value is evaluated to True if it has some sort of content.\n",
    "## Any string is True, except empty strings. Any number is True, except 0. Any list, tuple, set, and dictionary are True, except empty ones\n",
    "\n",
    "st = 1<= 2 <=8\n",
    "print(bool(st))\n"
   ]
  },
  {
   "cell_type": "code",
   "execution_count": 15,
   "metadata": {},
   "outputs": [
    {
     "name": "stdout",
     "output_type": "stream",
     "text": [
      "True\n"
     ]
    }
   ],
   "source": [
    "# Python also has many built-in functions that return a boolean value, like the isinstance() function, which can be used to determine if an object is of a certain data type.\n",
    "x = 200\n",
    "print(isinstance(x, int))"
   ]
  },
  {
   "cell_type": "markdown",
   "metadata": {},
   "source": [
    "### **Operators**"
   ]
  },
  {
   "cell_type": "code",
   "execution_count": 2,
   "metadata": {},
   "outputs": [
    {
     "name": "stdout",
     "output_type": "stream",
     "text": [
      "8\n",
      "0\n",
      "3\n",
      "2\n",
      "False\n"
     ]
    }
   ],
   "source": [
    "# Power\n",
    "print(2**3)   \n",
    "\n",
    "# Floor division   \n",
    "print(2//3)  \n",
    "\n",
    "# and   \n",
    "print(2 and 3)      \n",
    "\n",
    "# or\n",
    "print(2 or 5)\n",
    "\n",
    "# not\n",
    "print(not(2 or 5))      # not(True) = False and viceersa"
   ]
  },
  {
   "cell_type": "code",
   "execution_count": 2,
   "metadata": {},
   "outputs": [
    {
     "name": "stdout",
     "output_type": "stream",
     "text": [
      "False\n",
      "True\n"
     ]
    },
    {
     "name": "stderr",
     "output_type": "stream",
     "text": [
      "<>:1: SyntaxWarning: \"is\" with a literal. Did you mean \"==\"?\n",
      "<>:1: SyntaxWarning: \"is\" with a literal. Did you mean \"==\"?\n",
      "C:\\Users\\J Narasimha Rao\\AppData\\Local\\Temp\\ipykernel_16916\\132534006.py:1: SyntaxWarning: \"is\" with a literal. Did you mean \"==\"?\n",
      "  print(3 is 30)       # Returns True if both variables are the same object\n"
     ]
    }
   ],
   "source": [
    "print(3 is 30)       # Returns True if both variables are the same object\n",
    "\n",
    "print(4 in [3,4,5,6])       # Returns True if a sequence with the specified value is present in the object"
   ]
  },
  {
   "cell_type": "code",
   "execution_count": 8,
   "metadata": {},
   "outputs": [
    {
     "name": "stdout",
     "output_type": "stream",
     "text": [
      "0\n",
      "7\n",
      "-5\n",
      "128\n",
      "0\n"
     ]
    }
   ],
   "source": [
    "print(3 & 4)        # AND\n",
    "print(3 | 4)        # OR\n",
    "print(~4)           # NOT\n",
    "\n",
    "# Left shift\n",
    "print(2<<6)\n",
    "\n",
    "# Right shift\n",
    "print(2>>6)"
   ]
  },
  {
   "cell_type": "markdown",
   "metadata": {},
   "source": [
    "### **Lists**\n",
    "\n",
    "Lists are used to store multiple items in a single variable.\n",
    "\n",
    "List items are ordered, changeable, and allow duplicate values."
   ]
  },
  {
   "cell_type": "code",
   "execution_count": 30,
   "metadata": {},
   "outputs": [],
   "source": [
    "# Creating lists\n",
    "lst1 = [3,'fg',True,6.8]\n",
    "\n",
    "# Creating lists using list()\n",
    "lst2 = list((4,4,5,6,'lko',False,9.8,'i','jkl'))"
   ]
  },
  {
   "cell_type": "code",
   "execution_count": 49,
   "metadata": {},
   "outputs": [
    {
     "name": "stdout",
     "output_type": "stream",
     "text": [
      "2\n",
      "k\n",
      "1.8 6 [8, 90, 2, 3]\n",
      "1.8 [6, 8, 90, 2] 3\n"
     ]
    }
   ],
   "source": [
    "# Unpacking list\n",
    "a, b = [1,2]\n",
    "print(b)\n",
    "\n",
    "[x,y] = ['s','k']\n",
    "print(y)\n",
    "\n",
    "# using astrick we can access more than 1 value\n",
    "a,b,*c = [1.8,6,8,90,2,3]\n",
    "print(a,b,c)\n",
    "\n",
    "a,*b,c = [1.8,6,8,90,2,3]\n",
    "print(a,b,c)"
   ]
  },
  {
   "cell_type": "code",
   "execution_count": 31,
   "metadata": {},
   "outputs": [
    {
     "name": "stdout",
     "output_type": "stream",
     "text": [
      "[5, 6]\n",
      "[4, 6, False, 'i']\n"
     ]
    }
   ],
   "source": [
    "# slicing\n",
    "print(lst2[2:4])\n",
    "\n",
    "# Selecting elements for step 2\n",
    "print(lst2[1::2]) "
   ]
  },
  {
   "cell_type": "code",
   "execution_count": 32,
   "metadata": {},
   "outputs": [
    {
     "name": "stdout",
     "output_type": "stream",
     "text": [
      "[4, 7, 6, 'lko', False, 9.8, 'i', 'jkl']\n"
     ]
    }
   ],
   "source": [
    "lst2[1:4] = [7,6]\n",
    "print(lst2)"
   ]
  },
  {
   "cell_type": "code",
   "execution_count": 33,
   "metadata": {},
   "outputs": [
    {
     "name": "stdout",
     "output_type": "stream",
     "text": [
      "[4, 'AI', 7, 6, 'lko', False, 9.8, 'ML', 'i', 'jkl', 'Py']\n"
     ]
    }
   ],
   "source": [
    "# Append to list\n",
    "lst2.append(\"Py\")\n",
    "\n",
    "# Insert to list in an index\n",
    "lst2.insert(1,\"AI\")\n",
    "lst2.insert(-3,\"ML\")\n",
    "print(lst2)"
   ]
  },
  {
   "cell_type": "code",
   "execution_count": 35,
   "metadata": {},
   "outputs": [
    {
     "name": "stdout",
     "output_type": "stream",
     "text": [
      "[3, 'fg', True, 6.8, 4, 'AI', 7, 6, 'lko', False, 9.8, 'ML', 'i', 'jkl', 'Py', 4, 'AI', 7, 6, 'lko', False, 9.8, 'ML', 'i', 'jkl', 'Py']\n"
     ]
    }
   ],
   "source": [
    "# Extend: To append elements from another list to the current list.\n",
    "lst1.extend(lst2)\n",
    "print(lst1)"
   ]
  },
  {
   "cell_type": "code",
   "execution_count": 39,
   "metadata": {},
   "outputs": [
    {
     "name": "stdout",
     "output_type": "stream",
     "text": [
      "[3, 'fg', True, 6.8, 4, 'AI', 7, 6, 'lko', False, 9.8, 'ML', 'i', 'jkl', 'Py', 4, 'AI', 7, 6, 'lko', False, 9.8, 'ML', 'i', 'jkl', 'Py', 2.9, 0, False, 8, 2.9, 0, 8, 2.9, 0, False, 8]\n"
     ]
    }
   ],
   "source": [
    "# The extend() method does not have to append lists, you can add any iterable object (tuples, sets, dictionaries etc.).\n",
    "lst1.extend((2.9,0,False,8))\n",
    "print(lst1)"
   ]
  },
  {
   "cell_type": "code",
   "execution_count": 5,
   "metadata": {},
   "outputs": [
    {
     "name": "stdout",
     "output_type": "stream",
     "text": [
      "[1, 2, 3, 'a', 'b', 'v']\n"
     ]
    }
   ],
   "source": [
    "# using extend method in dict => adds keys of dictionary to list\n",
    "x = [1,2,3]\n",
    "y = {'a':['x'],'b':['90'],'v':4}\n",
    "x.extend(y)\n",
    "print(x)"
   ]
  },
  {
   "cell_type": "code",
   "execution_count": 6,
   "metadata": {},
   "outputs": [
    {
     "name": "stdout",
     "output_type": "stream",
     "text": [
      "[2, 3, 'a', 'b']\n"
     ]
    }
   ],
   "source": [
    "# The remove() method removes the specified element.\n",
    "x.remove(1)     # Here 1 is removed from x\n",
    "\n",
    "# The pop() method removes the specified index.\n",
    "x.pop()\n",
    "\n",
    "# The del keyword also removes the specified index\n",
    "del x[2]\n",
    "\n",
    "print(x)\n",
    "\n",
    "# The clear() method empties the list.\n",
    "print(x)"
   ]
  },
  {
   "cell_type": "code",
   "execution_count": 14,
   "metadata": {},
   "outputs": [
    {
     "name": "stdout",
     "output_type": "stream",
     "text": [
      "[0, 2, 4, 6, 8]\n",
      "['even', 'odd', 'even', 'odd', 'even', 'odd', 'even', 'odd', 'even', 'odd']\n"
     ]
    }
   ],
   "source": [
    "# for loop in list\n",
    "a = [i for i in range(10) if i%2==0]\n",
    "print(a)\n",
    "\n",
    "b = ['even' if i%2==0 else 'odd' for i in range(10)]\n",
    "print(b)"
   ]
  },
  {
   "cell_type": "code",
   "execution_count": 15,
   "metadata": {},
   "outputs": [
    {
     "name": "stdout",
     "output_type": "stream",
     "text": [
      "[0, 2, 4, 6, 8]\n",
      "['banana', 'cherry', 'Kiwi', 'Orange']\n"
     ]
    }
   ],
   "source": [
    "# List objects have a sort() method that will sort the list alphanumerically, ascending, by default. \n",
    "# reverse = True then descending\n",
    "a.sort()\n",
    "print(a)\n",
    "# So if you want a case-insensitive sort function, use str.lower as a key function:\n",
    "thislist = [\"banana\", \"Orange\", \"Kiwi\", \"cherry\"]\n",
    "thislist.sort(key = str.lower)\n",
    "print(thislist)"
   ]
  },
  {
   "cell_type": "code",
   "execution_count": 17,
   "metadata": {},
   "outputs": [
    {
     "name": "stdout",
     "output_type": "stream",
     "text": [
      "['apple', 'banana', 'cherry']\n",
      "[2.9, 'banana', 'cherry']\n"
     ]
    }
   ],
   "source": [
    "# You cannot copy a list simply by typing list2 = list1, because: list2 will only be a reference to list1, and changes made in list1 will automatically also be made in list2.\n",
    "thislist = [\"apple\", \"banana\", \"cherry\"]\n",
    "mylist = thislist\n",
    "print(mylist)\n",
    "\n",
    "thislist[0]=2.9\n",
    "print(mylist)"
   ]
  },
  {
   "cell_type": "code",
   "execution_count": null,
   "metadata": {},
   "outputs": [],
   "source": [
    "thislist = [\"apple\", \"banana\", \"cherry\"]\n",
    "mylist = thislist.copy()\n",
    "# you can also use below statement\n",
    "# mylist = list(thislist)\n",
    "print(mylist)"
   ]
  },
  {
   "cell_type": "code",
   "execution_count": 55,
   "metadata": {},
   "outputs": [
    {
     "name": "stdout",
     "output_type": "stream",
     "text": [
      "[2.9, 'banana', 'cherry', 6, 8, 90, 2]\n",
      "[2.9, 'banana', 'cherry', 6, 8, 90, 2, 2.9, 'banana', 'cherry', 6, 8, 90, 2]\n"
     ]
    }
   ],
   "source": [
    "# List concatinating\n",
    "## we can use extend() for this.\n",
    "## We can also use + symbol for concatinating\n",
    "x = thislist + b\n",
    "print(x)\n",
    "\n",
    "y = x*2\n",
    "print(y)"
   ]
  },
  {
   "cell_type": "code",
   "execution_count": 4,
   "metadata": {},
   "outputs": [
    {
     "name": "stdout",
     "output_type": "stream",
     "text": [
      "[0, 0, 1, 1, 1, 1, 1, 1, 1]\n"
     ]
    }
   ],
   "source": [
    "x = [0]*2 + [1]*7\n",
    "print(x)"
   ]
  },
  {
   "cell_type": "markdown",
   "metadata": {},
   "source": [
    "#### Index\n",
    "Syntax: list_name.index(element, start, end) \n",
    "\n",
    "Parameters: \n",
    "\n",
    "element – The element whose lowest index will be returned.\n",
    "\n",
    "start (Optional) – The position from where the search begins.\n",
    "\n",
    "end (Optional) – The position from where the search ends.\n",
    "\n",
    "Return: Returns the lowest index where the element appears."
   ]
  },
  {
   "cell_type": "code",
   "execution_count": 2,
   "metadata": {},
   "outputs": [
    {
     "ename": "AttributeError",
     "evalue": "'int' object has no attribute 'index'",
     "output_type": "error",
     "traceback": [
      "\u001b[1;31m---------------------------------------------------------------------------\u001b[0m",
      "\u001b[1;31mAttributeError\u001b[0m                            Traceback (most recent call last)",
      "\u001b[1;32mc:\\Users\\J Narasimha Rao\\Desktop\\Python\\Python Libraries\\python\\python_basics.ipynb Cell 42\u001b[0m line \u001b[0;36m2\n\u001b[0;32m      <a href='vscode-notebook-cell:/c%3A/Users/J%20Narasimha%20Rao/Desktop/Python/Python%20Libraries/python/python_basics.ipynb#X56sZmlsZQ%3D%3D?line=0'>1</a>\u001b[0m \u001b[39m# getting index for a value\u001b[39;00m\n\u001b[1;32m----> <a href='vscode-notebook-cell:/c%3A/Users/J%20Narasimha%20Rao/Desktop/Python/Python%20Libraries/python/python_basics.ipynb#X56sZmlsZQ%3D%3D?line=1'>2</a>\u001b[0m \u001b[39mprint\u001b[39m(x\u001b[39m.\u001b[39;49mindex(\u001b[39m0\u001b[39m))\n\u001b[0;32m      <a href='vscode-notebook-cell:/c%3A/Users/J%20Narasimha%20Rao/Desktop/Python/Python%20Libraries/python/python_basics.ipynb#X56sZmlsZQ%3D%3D?line=3'>4</a>\u001b[0m A \u001b[39m=\u001b[39m [\u001b[39m1\u001b[39m,\u001b[39m2\u001b[39m,\u001b[39m3\u001b[39m,\u001b[39m'\u001b[39m\u001b[39modd\u001b[39m\u001b[39m'\u001b[39m,\u001b[39m1\u001b[39m,\u001b[39m2\u001b[39m,\u001b[39m3\u001b[39m]\n\u001b[0;32m      <a href='vscode-notebook-cell:/c%3A/Users/J%20Narasimha%20Rao/Desktop/Python/Python%20Libraries/python/python_basics.ipynb#X56sZmlsZQ%3D%3D?line=4'>5</a>\u001b[0m \u001b[39mprint\u001b[39m(A\u001b[39m.\u001b[39mindex(\u001b[39m1\u001b[39m,\u001b[39m1\u001b[39m,\u001b[39m5\u001b[39m))\n",
      "\u001b[1;31mAttributeError\u001b[0m: 'int' object has no attribute 'index'"
     ]
    }
   ],
   "source": [
    "# getting index for a value\n",
    "print(x.index(0))\n",
    "\n",
    "A = [1,2,3,'odd',1,2,3]\n",
    "print(A.index(1,1,5))"
   ]
  },
  {
   "cell_type": "code",
   "execution_count": 4,
   "metadata": {},
   "outputs": [
    {
     "data": {
      "text/plain": [
       "[3, 2, 1, 'odd', 3, 2, 1]"
      ]
     },
     "execution_count": 4,
     "metadata": {},
     "output_type": "execute_result"
    }
   ],
   "source": [
    "# Reversing the list\n",
    "A = [1,2,3,'odd',1,2,3]\n",
    "# A.reverse()\n",
    "A[::-1]"
   ]
  },
  {
   "cell_type": "markdown",
   "metadata": {},
   "source": [
    "#### List methods\n",
    "| Method    | Description                            |\n",
    "| --------  | -------------------------------------- |\n",
    "| append()\t| Adds an element at the end of the list |\n",
    "| clear()\t| Removes all the elements from the list |\n",
    "| copy()\t| Returns a copy of the list |\n",
    "| count()\t| Returns the number of elements with the specified value |\n",
    "| extend()\t| Add the elements of a list (or any iterable), to the end of the current list\n",
    "| index()\t| Returns the index of the first element with the specified value\n",
    "| insert()\t| Adds an element at the specified position\n",
    "| pop()\t    | Removes the element at the specified position\n",
    "| remove()\t| Removes the item with the specified value\n",
    "| reverse()\t| Reverses the order of the list\n",
    "| sort()\t| Sorts the list"
   ]
  },
  {
   "cell_type": "markdown",
   "metadata": {},
   "source": [
    "### **Tuples**\n",
    "\n",
    "Tuple items are ordered, unchangeable, and allow duplicate values."
   ]
  },
  {
   "cell_type": "code",
   "execution_count": 6,
   "metadata": {},
   "outputs": [
    {
     "name": "stdout",
     "output_type": "stream",
     "text": [
      "(1, 'hjk', 6.0, True, 5, [6, 7], (2, 3), 6.0)\n"
     ]
    }
   ],
   "source": [
    "# It is also possible to use the tuple() constructor to make a tuple\n",
    "y = tuple((2,3,4))\n",
    "x = (1,'hjk',6.0,True,5,[6,7],(2,3),6.0)\n",
    "print(x)\n",
    "\n",
    "# x[0] = 100000 => changing any index value"
   ]
  },
  {
   "cell_type": "code",
   "execution_count": 7,
   "metadata": {},
   "outputs": [
    {
     "name": "stdout",
     "output_type": "stream",
     "text": [
      "<class 'tuple'>\n",
      "<class 'str'>\n"
     ]
    }
   ],
   "source": [
    "# To create a tuple with only one item, you have to add a comma after the item, otherwise Python will not recognize it as a tuple.\n",
    "thistuple = (\"apple\",)\n",
    "print(type(thistuple))\n",
    "\n",
    "#NOT a tuple\n",
    "thistuple = (\"apple\")\n",
    "print(type(thistuple))"
   ]
  },
  {
   "cell_type": "code",
   "execution_count": 8,
   "metadata": {},
   "outputs": [
    {
     "name": "stdout",
     "output_type": "stream",
     "text": [
      "('apple', 'kiwi', 'cherry')\n"
     ]
    }
   ],
   "source": [
    "# Like Lists they can be indexed.\n",
    "\n",
    "# Once a tuple is created, you cannot change its values. Tuples are unchangeable, or immutable as it also is called.\n",
    "## But there is a workaround. You can convert the tuple into a list, change the list, and convert the list back into a tuple.\n",
    "x = (\"apple\", \"banana\", \"cherry\")\n",
    "y = list(x)\n",
    "y[1] = \"kiwi\"\n",
    "x = tuple(y)\n",
    "\n",
    "print(x)"
   ]
  },
  {
   "cell_type": "code",
   "execution_count": 9,
   "metadata": {},
   "outputs": [
    {
     "name": "stdout",
     "output_type": "stream",
     "text": [
      "('apple', 'banana', 'cherry', 'orange')\n"
     ]
    },
    {
     "ename": "NameError",
     "evalue": "name 'thislist' is not defined",
     "output_type": "error",
     "traceback": [
      "\u001b[1;31m---------------------------------------------------------------------------\u001b[0m",
      "\u001b[1;31mNameError\u001b[0m                                 Traceback (most recent call last)",
      "\u001b[1;32mc:\\Users\\J Narasimha Rao\\Desktop\\Python\\Python Libraries\\python\\python_basics.ipynb Cell 49\u001b[0m line \u001b[0;36m1\n\u001b[0;32m      <a href='vscode-notebook-cell:/c%3A/Users/J%20Narasimha%20Rao/Desktop/Python/Python%20Libraries/python/python_basics.ipynb#X65sZmlsZQ%3D%3D?line=6'>7</a>\u001b[0m \u001b[39mprint\u001b[39m(thistuple)\n\u001b[0;32m      <a href='vscode-notebook-cell:/c%3A/Users/J%20Narasimha%20Rao/Desktop/Python/Python%20Libraries/python/python_basics.ipynb#X65sZmlsZQ%3D%3D?line=8'>9</a>\u001b[0m \u001b[39m# del keyword can delete the whole tuple\u001b[39;00m\n\u001b[1;32m---> <a href='vscode-notebook-cell:/c%3A/Users/J%20Narasimha%20Rao/Desktop/Python/Python%20Libraries/python/python_basics.ipynb#X65sZmlsZQ%3D%3D?line=9'>10</a>\u001b[0m \u001b[39mdel\u001b[39;00m thislist\n",
      "\u001b[1;31mNameError\u001b[0m: name 'thislist' is not defined"
     ]
    }
   ],
   "source": [
    "# Add tuple to a tuple: You are allowed to add tuples to tuples.\n",
    "## so if you want to add one item, (or many), create a new tuple with the item(s), and add it to the existing tuple\n",
    "thistuple = (\"apple\", \"banana\", \"cherry\")\n",
    "y = (\"orange\",)\n",
    "thistuple += y\n",
    "\n",
    "print(thistuple)\n",
    "\n",
    "# del keyword can delete the whole tuple\n",
    "del thislist"
   ]
  },
  {
   "cell_type": "code",
   "execution_count": null,
   "metadata": {},
   "outputs": [
    {
     "name": "stdout",
     "output_type": "stream",
     "text": [
      "<generator object <genexpr> at 0x0000024959EDE3B0>\n"
     ]
    }
   ],
   "source": [
    "# Unpacking of tuple is same as lists\n",
    "# Tuple Concatinating and multiplying are same as lists\n",
    "# count() and index() are available in tuple\n",
    "# Tuple loops\n",
    "t = (i for i in range(6))\n",
    "print(t)"
   ]
  },
  {
   "cell_type": "markdown",
   "metadata": {},
   "source": [
    "### **Set**\n",
    "\n",
    "Sets are used to store multiple items in a single variable. A set is a collection which is unordered, unchangeable*, unindexed and Duplicates Not Allowed\n",
    "\n",
    "Set items can appear in a different order every time you use them, and cannot be referred to by index or key.\n",
    "\n",
    "Note: Set items are unchangeable, but you can remove items and add new items.\n",
    "\n",
    "Unordered: Unordered means that the items in a set do not have a defined order.\n",
    "\n",
    "\n",
    "Unchangeable: Set items are unchangeable, meaning that we cannot change the items after the set has been created."
   ]
  },
  {
   "cell_type": "code",
   "execution_count": 2,
   "metadata": {},
   "outputs": [
    {
     "name": "stdout",
     "output_type": "stream",
     "text": [
      "{0.91, 1, 2, 0, 28, 30}\n"
     ]
    }
   ],
   "source": [
    "# Creation of set\n",
    "s1 = {1,2.0,'yui',False,0,2.0,True,\"abc\",\"ya\"}\n",
    "s2 = set((0.91,2,30,1,28,0))\n",
    "\n",
    "# Duplication is not possible and True, False are read as 1,0 and treated as duplicate\n",
    "# Elements will be printed in ascending order\n",
    "print(s2)"
   ]
  },
  {
   "cell_type": "code",
   "execution_count": null,
   "metadata": {},
   "outputs": [
    {
     "name": "stdout",
     "output_type": "stream",
     "text": [
      "False 1 2.0 abc yui ya "
     ]
    }
   ],
   "source": [
    "for i in s1:\n",
    "    print(i,end=\" \")"
   ]
  },
  {
   "cell_type": "code",
   "execution_count": null,
   "metadata": {},
   "outputs": [
    {
     "name": "stdout",
     "output_type": "stream",
     "text": [
      "{False, 1, 2.0, 'sdf', 'abc', 'yui', 'ya'}\n"
     ]
    }
   ],
   "source": [
    "# Slicing is not possible\n",
    "\n",
    "# Once a set is created, you cannot change its items, but you can add new items.\n",
    "## To add one item to a set use the add() method.\n",
    "s1.add(\"sdf\")\n",
    "print(s1)"
   ]
  },
  {
   "cell_type": "code",
   "execution_count": null,
   "metadata": {},
   "outputs": [
    {
     "name": "stdout",
     "output_type": "stream",
     "text": [
      "{False, 1, 2.0, 'sdf', 0.91, 'yui', 'abc', 'ya', 30}\n"
     ]
    }
   ],
   "source": [
    "# To add items from another set into the current set, use the update() method.\n",
    "## The object in the update() method does not have to be a set, it can be any iterable object (tuples, lists, dictionaries etc.).\n",
    "s1.update(s2)\n",
    "print(s1)"
   ]
  },
  {
   "cell_type": "code",
   "execution_count": null,
   "metadata": {},
   "outputs": [
    {
     "name": "stdout",
     "output_type": "stream",
     "text": [
      "{1, 2.0, 'sdf', 0.91, 'yui', 'abc', 'ya', 30}\n",
      "{1, 2.0, 'sdf', 0.91, 'yui', 'abc', 'ya', 30}\n",
      "{'sdf', 0.91, 'yui', 'abc', 'ya', 30}\n"
     ]
    }
   ],
   "source": [
    "# To remove an item in a set, use the remove(), or the discard() method.\n",
    "## If the item to remove does not exist, remove() will raise an error.\n",
    "s1.remove(0)\n",
    "print(s1)\n",
    "\n",
    "## If the item to remove does not exist, discard() will NOT raise an error.\n",
    "s1.discard(0)\n",
    "print(s1)\n",
    "\n",
    "## You can also use the pop() method to remove an item, but this method will remove a random item, so you cannot be sure what item that gets removed.\n",
    "s1.pop()\n",
    "s1.pop()\n",
    "print(s1)"
   ]
  },
  {
   "cell_type": "markdown",
   "metadata": {},
   "source": [
    "#### **Join Two Sets**"
   ]
  },
  {
   "cell_type": "code",
   "execution_count": null,
   "metadata": {},
   "outputs": [
    {
     "name": "stdout",
     "output_type": "stream",
     "text": [
      "{1, 2, 'b', 3, 'a', 'c'}\n",
      "{1, 2, 'b', 3, 'a', 'c'}\n"
     ]
    }
   ],
   "source": [
    "# Union\n",
    "set1 = {\"a\", \"b\" , \"c\"}\n",
    "set2 = {1, 2, 3}\n",
    "set3 = set1.union(set2)\n",
    "print(set3)\n",
    "\n",
    "set1 = {\"a\", \"b\" , \"c\"}\n",
    "set2 = {1, 2, 3}\n",
    "\n",
    "set1.update(set2)\n",
    "print(set1)"
   ]
  },
  {
   "cell_type": "code",
   "execution_count": null,
   "metadata": {},
   "outputs": [],
   "source": [
    "# Intersection\n",
    "## The intersection_update() method will keep only the items that are present in both sets.\n",
    "x = {\"apple\", \"banana\", \"cherry\"}\n",
    "y = {\"google\", \"microsoft\", \"apple\"}\n",
    "\n",
    "x.intersection_update(y)\n",
    "print(x)\n",
    "\n",
    "## The intersection() method will return a new set, that only contains the items that are present in both sets.\n",
    "\n",
    "x = {\"apple\", \"banana\", \"cherry\"}\n",
    "y = {\"google\", \"microsoft\", \"apple\"}\n",
    "\n",
    "z = x.intersection(y)\n",
    "\n",
    "print(z)"
   ]
  },
  {
   "cell_type": "code",
   "execution_count": 13,
   "metadata": {},
   "outputs": [
    {
     "name": "stdout",
     "output_type": "stream",
     "text": [
      "{'banana', 'google', 'microsoft', 'cherry'}\n",
      "{'banana', 'google', 'microsoft', 'cherry'}\n"
     ]
    }
   ],
   "source": [
    "# Symmetric difference\n",
    "## The symmetric_difference_update() method will keep only the elements that are NOT present in both sets.\n",
    "x = {\"apple\", \"banana\", \"cherry\"}\n",
    "y = {\"google\", \"microsoft\", \"apple\"}\n",
    "\n",
    "x.symmetric_difference_update(y)\n",
    "\n",
    "print(x)\n",
    "\n",
    "## The symmetric_difference() method will return a new set, that contains only the elements that are NOT present in both sets.\n",
    "\n",
    "x = {\"apple\", \"banana\", \"cherry\"}\n",
    "y = {\"google\", \"microsoft\", \"apple\"}\n",
    "\n",
    "z = x.symmetric_difference(y)\n",
    "\n",
    "print(z)"
   ]
  },
  {
   "cell_type": "markdown",
   "metadata": {},
   "source": [
    "### **Dictionaries**\n",
    "Dictionaries are used to store data values in key:value pairs. A dictionary is a collection which is ordered*, changeable and do not allow duplicates."
   ]
  },
  {
   "cell_type": "code",
   "execution_count": 3,
   "metadata": {},
   "outputs": [
    {
     "name": "stdout",
     "output_type": "stream",
     "text": [
      "{'Y': 'nm', 1: 6, 'y': 'nm', 'model': 'Mustang', 'year': 2023, 12: 'klj'}\n",
      "{'x': 1, 'y': ['23']}\n"
     ]
    }
   ],
   "source": [
    "# Creation of dictionary\n",
    "z = 12\n",
    "thisdict = {\n",
    "  \"Y\": \"Ford\",\n",
    "  1:6,\n",
    "  \"y\":\"nm\",\n",
    "  \"Y\":\"nm\",\n",
    "  \"model\": \"Mustang\",\n",
    "  \"year\": 1964,\n",
    "  z:\"klj\"\n",
    "}\n",
    "thisdict['year']=2023\n",
    "print(thisdict)\n",
    "\n",
    "# It is also possible to use the dict() constructor to make a dictionary.\n",
    "y = \"A\"\n",
    "d = dict(x=1,y=[\"23\"])\n",
    "print(d)"
   ]
  },
  {
   "cell_type": "code",
   "execution_count": null,
   "metadata": {},
   "outputs": [
    {
     "name": "stdout",
     "output_type": "stream",
     "text": [
      "1\n",
      "['23']\n",
      "dict_keys(['x', 'y'])\n",
      "dict_values([1, ['23']])\n",
      "dict_items([('x', 1), ('y', ['23'])])\n",
      "{'Y': 0, 1: 6, 'y': 'nm', 'model': 'Mustang', 'year': 90, 12: 'klj', 23: 'o'}\n"
     ]
    }
   ],
   "source": [
    "# Accessing elements\n",
    "print(d['x'])\n",
    "print(d.get('y'))\n",
    "\n",
    "# Getting keys\n",
    "print(d.keys())\n",
    "\n",
    "# Get values\n",
    "print(d.values())\n",
    "\n",
    "# items() gives the key value in a tuple \n",
    "print(d.items())\n",
    "\n",
    "# using update() => value can be changed or can be added\n",
    "thisdict.update({'Y':0,23:'o','year':90})\n",
    "print(thisdict)"
   ]
  },
  {
   "cell_type": "code",
   "execution_count": null,
   "metadata": {},
   "outputs": [
    {
     "name": "stdout",
     "output_type": "stream",
     "text": [
      "{'Y': 0, 1: 6, 'y': 'nm', 'year': 90, 12: 'klj'}\n"
     ]
    }
   ],
   "source": [
    "# Removing elements\n",
    "## Using pop() => a particular key can be removed\n",
    "thisdict.pop(\"model\")\n",
    "\n",
    "## Using popitem() => Last key will be removed\n",
    "thisdict.popitem()\n",
    "\n",
    "print(thisdict)\n",
    "\n",
    "# del keyword => used for deleting both keys and dictinary\n",
    "# clear() => deletes whole dict"
   ]
  },
  {
   "cell_type": "code",
   "execution_count": null,
   "metadata": {},
   "outputs": [],
   "source": [
    "# You cannot copy a dictionary simply by typing dict2 = dict1, \n",
    "## because: dict2 will only be a reference to dict1, and changes made in dict1 will automatically also be made in dict2.\n",
    "## There are ways to make a copy, one way is to use the built-in Dictionary method copy()"
   ]
  },
  {
   "cell_type": "code",
   "execution_count": 14,
   "metadata": {},
   "outputs": [
    {
     "name": "stdout",
     "output_type": "stream",
     "text": [
      "{'child1': {'name': 'Emil', 'year': 2004}, 'child2': {'name': 'Tobias', 'year': 2007}}\n"
     ]
    }
   ],
   "source": [
    "# Nested Dictionary\n",
    "child1 = {\n",
    "  \"name\" : \"Emil\",\n",
    "  \"year\" : 2004\n",
    "}\n",
    "child2 = {\n",
    "  \"name\" : \"Tobias\",\n",
    "  \"year\" : 2007\n",
    "}\n",
    "\n",
    "myfamily = {\n",
    "  \"child1\" : child1,\n",
    "  \"child2\" : child2\n",
    "}\n",
    "print(myfamily)"
   ]
  },
  {
   "cell_type": "markdown",
   "metadata": {},
   "source": [
    "| Method|\tDescription|\n",
    "|-------|--------------|\n",
    "| clear()|\tRemoves all the elements from the dictionary|\n",
    "| copy()\t|Returns a copy of the dictionary|\n",
    "| fromkeys()\t|Returns a dictionary with the specified keys and value|\n",
    "| get()\t| Returns the value of the specified key|\n",
    "| items()|\tReturns a list containing a tuple for each key value pair|\n",
    "| keys()|\tReturns a list containing the dictionary's keys|\n",
    "| pop()\t|Removes the element with the specified key|\n",
    "| popitem()\t| Removes the last inserted key-value pair|\n",
    "| setdefault() |\tReturns the value of the specified key. If the key does not exist: insert the key, with the specified value|\n",
    "| update()|\tUpdates the dictionary with the specified key-value pairs|\n",
    "| values()|\tReturns a list of all the values in the dictionary|"
   ]
  },
  {
   "cell_type": "code",
   "execution_count": 17,
   "metadata": {},
   "outputs": [
    {
     "name": "stdout",
     "output_type": "stream",
     "text": [
      "{'name': ['Not specified', 60, 90], 'age': ['Not specified', 60, 90], 'gender': ['Not specified', 60, 90]}\n"
     ]
    }
   ],
   "source": [
    "# Using fromkeys() to create a dictionary with specified keys and a default value\n",
    "keys = ['name', 'age', 'gender']\n",
    "default_value = ['Not specified',60,90]\n",
    "\n",
    "new_dict = dict.fromkeys(keys, default_value)\n",
    "\n",
    "print(new_dict)\n"
   ]
  },
  {
   "cell_type": "markdown",
   "metadata": {},
   "source": [
    "#### **Deque**"
   ]
  },
  {
   "cell_type": "code",
   "execution_count": 15,
   "metadata": {},
   "outputs": [],
   "source": [
    "from collections import deque"
   ]
  },
  {
   "cell_type": "code",
   "execution_count": null,
   "metadata": {},
   "outputs": [],
   "source": [
    "dq = deque()\n",
    "dq.append(1)\n",
    "dq.lef"
   ]
  },
  {
   "cell_type": "code",
   "execution_count": 8,
   "metadata": {},
   "outputs": [
    {
     "name": "stdout",
     "output_type": "stream",
     "text": [
      "20\n"
     ]
    }
   ],
   "source": [
    "\n",
    "a = 15\n",
    " \n",
    " \n",
    "# function to change a global value\n",
    "def change():\n",
    "    # increment value of a by 5\n",
    "    global a\n",
    "    b = a + 5\n",
    "    a = b\n",
    "    print(a)\n",
    " \n",
    " \n",
    "change()"
   ]
  },
  {
   "cell_type": "code",
   "execution_count": 9,
   "metadata": {},
   "outputs": [
    {
     "name": "stdout",
     "output_type": "stream",
     "text": [
      "'arr' list before executing fun(): [10, 20, 30]\n",
      "'arr' list after executing fun(): [10, 20, 30, 10, 20, 30]\n"
     ]
    }
   ],
   "source": [
    "arr = [10, 20, 30]\n",
    " \n",
    " \n",
    "def fun():\n",
    "    for i in range(len(arr)):\n",
    "        arr.append(arr[i])\n",
    " \n",
    " \n",
    "print(\"'arr' list before executing fun():\", arr)\n",
    "fun()\n",
    "print(\"'arr' list after executing fun():\", arr)"
   ]
  },
  {
   "cell_type": "code",
   "execution_count": 13,
   "metadata": {},
   "outputs": [
    {
     "name": "stdout",
     "output_type": "stream",
     "text": [
      "Hey!\n"
     ]
    }
   ],
   "source": [
    "def outerFunction(text): \n",
    " \n",
    "    def innerFunction(): \n",
    "        print(text) \n",
    " \n",
    "    # Note we are returning function\n",
    "    # WITHOUT parenthesis\n",
    "    return innerFunction  \n",
    " \n",
    "if __name__ == '__main__': \n",
    "    myFunction = outerFunction('Hey!') \n",
    "    myFunction() "
   ]
  },
  {
   "cell_type": "code",
   "execution_count": 14,
   "metadata": {},
   "outputs": [
    {
     "name": "stdout",
     "output_type": "stream",
     "text": [
      "3628800\n",
      "Total time taken in :  factorial 2.0124340057373047\n"
     ]
    }
   ],
   "source": [
    "# importing libraries\n",
    "import time\n",
    "import math\n",
    "\n",
    "# decorator to calculate duration\n",
    "# taken by any function.\n",
    "def calculate_time(func):\n",
    "\t\n",
    "\t# added arguments inside the inner1,\n",
    "\t# if function takes any arguments,\n",
    "\t# can be added like this.\n",
    "\tdef inner1(*args, **kwargs):\n",
    "\n",
    "\t\t# storing time before function execution\n",
    "\t\tbegin = time.time()\n",
    "\t\t\n",
    "\t\tfunc(*args, **kwargs)\n",
    "\n",
    "\t\t# storing time after function execution\n",
    "\t\tend = time.time()\n",
    "\t\tprint(\"Total time taken in : \", func.__name__, end - begin)\n",
    "\n",
    "\treturn inner1\n",
    "\n",
    "\n",
    "\n",
    "# this can be added to any function present,\n",
    "# in this case to calculate a factorial\n",
    "@calculate_time\n",
    "def factorial(num):\n",
    "\n",
    "\t# sleep 2 seconds because it takes very less time\n",
    "\t# so that you can see the actual difference\n",
    "\ttime.sleep(2)\n",
    "\tprint(math.factorial(num))\n",
    "\n",
    "# calling the function.\n",
    "factorial(10)\n"
   ]
  }
 ],
 "metadata": {
  "kernelspec": {
   "display_name": "base",
   "language": "python",
   "name": "python3"
  },
  "language_info": {
   "codemirror_mode": {
    "name": "ipython",
    "version": 3
   },
   "file_extension": ".py",
   "mimetype": "text/x-python",
   "name": "python",
   "nbconvert_exporter": "python",
   "pygments_lexer": "ipython3",
   "version": "3.10.9"
  },
  "orig_nbformat": 4
 },
 "nbformat": 4,
 "nbformat_minor": 2
}

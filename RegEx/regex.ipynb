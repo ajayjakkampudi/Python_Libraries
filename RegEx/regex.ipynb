{
 "cells": [
  {
   "cell_type": "markdown",
   "metadata": {},
   "source": [
    "### **RegEx**\n",
    "A RegEx, or Regular Expression, is a sequence of characters that forms a search pattern.\n",
    "\n",
    "RegEx can be used to check if a string contains the specified search pattern."
   ]
  },
  {
   "cell_type": "markdown",
   "metadata": {},
   "source": [
    "The re module offers a set of functions that allows us to search a string for a match:\n",
    "\n",
    "| Function | Description |\n",
    "| ------ | ------ |\n",
    "|findall|\tReturns a list containing all matches|\n",
    "|search\t|Returns a Match object if there is a match anywhere in the string|\n",
    "|split\t| Returns a list where the string has been split at each match|\n",
    "|sub\t| Replaces one or many matches with a string|"
   ]
  },
  {
   "cell_type": "markdown",
   "metadata": {},
   "source": [
    "#### **Meta Characters**\n",
    "\n",
    "| Character |\tDescription |\tExample\t|\n",
    "| --------- | ------------- | ----------|\n",
    "| [ ] |\tA set of characters\t| \"[a-m]\"\t|\n",
    "| \\\t| Signals a special sequence (can also be used to escape special characters) |\t\"\\d||\"\t\n",
    "| .\t|Any character (except newline character)|\t\"he..o\"\t|\n",
    "| ^\t|Starts with\t|\"^hello\"\t|\n",
    "| $\t|Ends with |\t\"planet$\"\t|\n",
    "| *\t|Zero or more occurrences|\t\"he.*o\"\t|\n",
    "| +\t|One or more occurrences|\t\"he.+o\"\t|\n",
    "| ?\t|Zero or one occurrences |\t\"he.?o\"\t|\n",
    "| {} |\tExactly the specified number of occurrences |\t\"he.{2}o\"\t|\n",
    "| (OR) |\tEither or\t| \"falls(OR)stays\" |\n",
    "\n",
    "(OR) => Symbol is |"
   ]
  },
  {
   "cell_type": "code",
   "execution_count": null,
   "metadata": {},
   "outputs": [],
   "source": []
  }
 ],
 "metadata": {
  "kernelspec": {
   "display_name": "Python 3.8.9 64-bit",
   "language": "python",
   "name": "python3"
  },
  "language_info": {
   "name": "python",
   "version": "3.8.9"
  },
  "orig_nbformat": 4,
  "vscode": {
   "interpreter": {
    "hash": "e6304c2455b6c832b9b93396a37f88edc7088e879a4a08232929e226309c5e3f"
   }
  }
 },
 "nbformat": 4,
 "nbformat_minor": 2
}

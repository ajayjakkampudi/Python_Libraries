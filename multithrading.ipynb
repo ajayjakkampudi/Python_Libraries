{
 "cells": [
  {
   "cell_type": "code",
   "execution_count": 1,
   "metadata": {},
   "outputs": [],
   "source": [
    "from threading import Thread\n",
    "import time\n",
    "from tqdm.notebook import tqdm_notebook"
   ]
  },
  {
   "cell_type": "code",
   "execution_count": 2,
   "metadata": {},
   "outputs": [
    {
     "name": "stdout",
     "output_type": "stream",
     "text": [
      "Sleep 4 second\n",
      "Done Sleeping\n",
      "Sleep 5 second\n",
      "Done Sleeping\n",
      "Finished in 9.01 seconds\n"
     ]
    }
   ],
   "source": [
    "start = time.perf_counter()\n",
    "\n",
    "def do_something(sec):\n",
    "    print(f'Sleep {sec} second')\n",
    "    time.sleep(sec)\n",
    "    print('Done Sleeping')\n",
    "\n",
    "# This calls the functions Asynchronously\n",
    "do_something(4)\n",
    "do_something(5)\n",
    "\n",
    "finish = time.perf_counter()\n",
    "\n",
    "print(f'Finished in {round(finish-start,2)} seconds')"
   ]
  },
  {
   "cell_type": "code",
   "execution_count": 3,
   "metadata": {},
   "outputs": [
    {
     "name": "stdout",
     "output_type": "stream",
     "text": [
      "Sleep 3.0 second\n",
      "Sleep 2.0 second\n",
      "Done Sleeping 2.0\n",
      "Done Sleeping 3.0\n",
      "Finished in 3.02 seconds\n"
     ]
    }
   ],
   "source": [
    "start = time.perf_counter()\n",
    "\n",
    "def do_something(sec):\n",
    "    print(f'Sleep {sec} second')\n",
    "    time.sleep(sec)\n",
    "    print(f'Done Sleeping {sec}')\n",
    "    \n",
    "t1=Thread(target=do_something, args=[3.0])\n",
    "t1.start()\n",
    "\n",
    "t2=Thread(target=do_something,args=[2.0])\n",
    "t2.start()\n",
    "\n",
    "t1.join()\n",
    "t2.join()\n",
    "\n",
    "# If join is not included then when two functions are in sleep mode it prints the finish-start\n",
    "finish = time.perf_counter()\n",
    "\n",
    "print(f'Finished in {round(finish-start,2)} seconds')"
   ]
  },
  {
   "cell_type": "code",
   "execution_count": 4,
   "metadata": {},
   "outputs": [
    {
     "name": "stdout",
     "output_type": "stream",
     "text": [
      "Sleep 4.0 second\n",
      "Sleep 1.0 second\n",
      "Sleep 0.5 second\n",
      "Sleep 3.5 second\n",
      "Sleep 6.0 second\n",
      "Sleep 1 second\n",
      "Sleep 2 second\n",
      "Sleep 4 second\n",
      "Sleep 6 second\n",
      "Sleep 2.7 second\n",
      "Sleep 1.5 second\n",
      "Done Sleeping 0.5\n",
      "Done Sleeping 1\n",
      "Done Sleeping 1.0\n",
      "Done Sleeping 1.5\n",
      "Done Sleeping 2\n",
      "Done Sleeping 2.7\n",
      "Done Sleeping 3.5\n",
      "Done Sleeping 4\n",
      "Done Sleeping 4.0\n",
      "Done Sleeping 6\n",
      "Done Sleeping 6.0\n",
      "Finished in 6.02 seconds\n"
     ]
    }
   ],
   "source": [
    "# Iterating thread objects\n",
    "start = time.perf_counter()\n",
    "\n",
    "def do_something(sec):\n",
    "    print(f'Sleep {sec} second')\n",
    "    time.sleep(sec)\n",
    "    print(f'Done Sleeping {sec}')\n",
    "\n",
    "threads=[]\n",
    "delay=[4.0,1.0,0.5,3.5,6.0,1,2,4,6,2.7,1.5]\n",
    "for i in delay:\n",
    "    t=Thread(target=do_something, args=[i])\n",
    "    t.start()\n",
    "    threads.append(t)\n",
    "\n",
    "for thread in threads:\n",
    "    thread.join()\n",
    "    \n",
    "# If join is not included then when two functions are in sleep mode it prints the finish-start\n",
    "finish = time.perf_counter()\n",
    "\n",
    "print(f'Finished in {round(finish-start,2)} seconds')"
   ]
  },
  {
   "cell_type": "code",
   "execution_count": 5,
   "metadata": {},
   "outputs": [],
   "source": [
    "from concurrent.futures import ThreadPoolExecutor,as_completed"
   ]
  },
  {
   "cell_type": "code",
   "execution_count": 6,
   "metadata": {},
   "outputs": [
    {
     "name": "stdout",
     "output_type": "stream",
     "text": [
      "Sleep 4.0 second\n",
      "Sleep 1.0 second\n",
      "Sleep 0.5 second\n",
      "Sleep 3.5 second\n",
      "Sleep 6.0 second\n",
      "Sleep 1 second\n",
      "Sleep 2 second\n",
      "Sleep 4 second\n",
      "Sleep 6 second\n",
      "Sleep 2.7 second\n",
      "Sleep 1.5 second\n"
     ]
    },
    {
     "name": "stdout",
     "output_type": "stream",
     "text": [
      "Done Sleeping 4.0\n",
      "Done Sleeping 1.0\n",
      "Done Sleeping 0.5\n",
      "Done Sleeping 3.5\n",
      "Done Sleeping 6.0\n",
      "Done Sleeping 1\n",
      "Done Sleeping 2\n",
      "Done Sleeping 4\n",
      "Done Sleeping 6\n",
      "Done Sleeping 2.7\n",
      "Done Sleeping 1.5\n",
      "Finished in 6.03 seconds\n"
     ]
    }
   ],
   "source": [
    "# Iterating thread objects\n",
    "start = time.perf_counter()\n",
    "\n",
    "def do_something(sec):\n",
    "    print(f'Sleep {sec} second')\n",
    "    time.sleep(sec)\n",
    "    return f'Done Sleeping {sec}'\n",
    "    \n",
    "with ThreadPoolExecutor() as executor:\n",
    "    # Procedure 1\n",
    "    # executor.submit gives the future object\n",
    "    # f1 = executor.submit(do_something,3.0)\n",
    "    # f2 = executor.submit(do_something,2.0)\n",
    "    # f.result() returns the value of the function\n",
    "    # print(f1.result())\n",
    "    # print(f2.result())\n",
    "    \n",
    "    # Procedure 2\n",
    "    delay=[4.0,1.0,0.5,3.5,6.0,1,2,4,6,2.7,1.5]\n",
    "    # results = [executor.submit(do_something,i) for i in delay]\n",
    "    # for f in as_completed(results):\n",
    "    #     print(f.result())\n",
    "    \n",
    "    # Procedure 3\n",
    "    results=executor.map(do_something,delay)\n",
    "    for r in results:\n",
    "        print(r)\n",
    "        \n",
    "\n",
    "# If join is not included then when two functions are in sleep mode it prints the finish-start\n",
    "finish = time.perf_counter()\n",
    "\n",
    "print(f'Finished in {round(finish-start,2)} seconds')"
   ]
  },
  {
   "cell_type": "code",
   "execution_count": 7,
   "metadata": {},
   "outputs": [
    {
     "name": "stderr",
     "output_type": "stream",
     "text": [
      "Exception in thread Thread-18 (do_something):\n",
      "Traceback (most recent call last):\n",
      "  File \"e:\\Anaconda Navigator\\envs\\tensorflow\\lib\\threading.py\", line 1016, in _bootstrap_inner\n",
      "Exception in thread Thread-19 (do_something):\n",
      "Traceback (most recent call last):\n",
      "  File \"e:\\Anaconda Navigator\\envs\\tensorflow\\lib\\threading.py\", line 1016, in _bootstrap_inner\n",
      "    self.run()\n",
      "  File \"e:\\Anaconda Navigator\\envs\\tensorflow\\lib\\threading.py\", line 953, in run\n",
      "    self.run()\n",
      "  File \"e:\\Anaconda Navigator\\envs\\tensorflow\\lib\\threading.py\", line 953, in run\n",
      "    self._target(*self._args, **self._kwargs)\n",
      "  File \"C:\\Users\\J Narasimha Rao\\AppData\\Local\\Temp\\ipykernel_15588\\2367365045.py\", line 5, in do_something\n",
      "    self._target(*self._args, **self._kwargs)\n",
      "  File \"C:\\Users\\J Narasimha Rao\\AppData\\Local\\Temp\\ipykernel_15588\\2367365045.py\", line 5, in do_something\n",
      "  File \"e:\\Anaconda Navigator\\envs\\tensorflow\\lib\\site-packages\\tqdm\\notebook.py\", line 238, in __init__\n",
      "  File \"e:\\Anaconda Navigator\\envs\\tensorflow\\lib\\site-packages\\tqdm\\notebook.py\", line 238, in __init__\n",
      "    self.container = self.status_printer(self.fp, total, self.desc, self.ncols)\n",
      "  File \"e:\\Anaconda Navigator\\envs\\tensorflow\\lib\\site-packages\\tqdm\\notebook.py\", line 113, in status_printer\n",
      "    self.container = self.status_printer(self.fp, total, self.desc, self.ncols)\n",
      "  File \"e:\\Anaconda Navigator\\envs\\tensorflow\\lib\\site-packages\\tqdm\\notebook.py\", line 113, in status_printer\n",
      "    raise ImportError(WARN_NOIPYW)\n",
      "ImportError: IProgress not found. Please update jupyter and ipywidgets. See https://ipywidgets.readthedocs.io/en/stable/user_install.html\n",
      "    raise ImportError(WARN_NOIPYW)\n",
      "ImportError: IProgress not found. Please update jupyter and ipywidgets. See https://ipywidgets.readthedocs.io/en/stable/user_install.html\n",
      "Exception ignored in: Exception ignored in: <function tqdm.__del__ at 0x000001B4DC6B0940>\n",
      "Traceback (most recent call last):\n",
      "  File \"e:\\Anaconda Navigator\\envs\\tensorflow\\lib\\site-packages\\tqdm\\std.py\", line 1145, in __del__\n",
      "<function tqdm.__del__ at 0x000001B4DC6B0940>\n",
      "Traceback (most recent call last):\n",
      "  File \"e:\\Anaconda Navigator\\envs\\tensorflow\\lib\\site-packages\\tqdm\\std.py\", line 1145, in __del__\n",
      "    self.close()\n",
      "  File \"e:\\Anaconda Navigator\\envs\\tensorflow\\lib\\site-packages\\tqdm\\notebook.py\", line 283, in close\n",
      "    self.close()\n",
      "  File \"e:\\Anaconda Navigator\\envs\\tensorflow\\lib\\site-packages\\tqdm\\notebook.py\", line 283, in close\n",
      "    self.disp(bar_style='danger', check_delay=False)\n",
      "AttributeError: 'tqdm_notebook' object has no attribute 'disp'\n",
      "    self.disp(bar_style='danger', check_delay=False)\n",
      "AttributeError: 'tqdm_notebook' object has no attribute 'disp'\n"
     ]
    },
    {
     "name": "stdout",
     "output_type": "stream",
     "text": [
      "Finished in 0.04 seconds\n"
     ]
    }
   ],
   "source": [
    "# Iterating thread objects\n",
    "start = time.perf_counter()\n",
    "# progress_bar=tqdm(total=5)\n",
    "def do_something(sec):\n",
    "    for i in tqdm_notebook(range(5)):\n",
    "        time.sleep(sec)\n",
    "        \n",
    "    print(f'Done Sleeping {sec}')\n",
    "\n",
    "threads=[]\n",
    "delay=[2.0,1.0]\n",
    "for i in delay:\n",
    "    t=Thread(target=do_something, args=[i])\n",
    "    t.start()\n",
    "    threads.append(t)\n",
    "\n",
    "for thread in threads:\n",
    "    thread.join()\n",
    "    \n",
    "# If join is not included then when two functions are in sleep mode it prints the finish-start\n",
    "finish = time.perf_counter()\n",
    "\n",
    "print(f'Finished in {round(finish-start,2)} seconds')"
   ]
  },
  {
   "cell_type": "code",
   "execution_count": null,
   "metadata": {},
   "outputs": [],
   "source": []
  }
 ],
 "metadata": {
  "kernelspec": {
   "display_name": "base",
   "language": "python",
   "name": "python3"
  },
  "language_info": {
   "codemirror_mode": {
    "name": "ipython",
    "version": 3
   },
   "file_extension": ".py",
   "mimetype": "text/x-python",
   "name": "python",
   "nbconvert_exporter": "python",
   "pygments_lexer": "ipython3",
   "version": "3.10.12"
  },
  "orig_nbformat": 4
 },
 "nbformat": 4,
 "nbformat_minor": 2
}

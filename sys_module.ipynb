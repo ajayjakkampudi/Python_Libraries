{
 "cells": [
  {
   "cell_type": "markdown",
   "metadata": {},
   "source": [
    "The sys module in Python provides access to some variables used or maintained by the Python interpreter, as well as functions that interact strongly with the interpreter."
   ]
  },
  {
   "cell_type": "code",
   "execution_count": 2,
   "metadata": {},
   "outputs": [],
   "source": [
    "import sys"
   ]
  },
  {
   "cell_type": "code",
   "execution_count": 5,
   "metadata": {},
   "outputs": [
    {
     "name": "stdout",
     "output_type": "stream",
     "text": [
      "Script Name: e:\\Anaconda Navigator\\lib\\site-packages\\ipykernel_launcher.py\n",
      "Arguments: ['--f=\"c:\\\\Users\\\\J Narasimha Rao\\\\AppData\\\\Roaming\\\\jupyter\\\\runtime\\\\kernel-v2-16280XdnDLob6nuy5.json\"']\n",
      "['e:\\\\Anaconda Navigator\\\\lib\\\\site-packages\\\\ipykernel_launcher.py', '--f=\"c:\\\\Users\\\\J Narasimha Rao\\\\AppData\\\\Roaming\\\\jupyter\\\\runtime\\\\kernel-v2-16280XdnDLob6nuy5.json\"']\n"
     ]
    }
   ],
   "source": [
    "# sys.argv:\n",
    "## sys.argv is a list in Python that contains command-line arguments passed to the script. \n",
    "## The first element (sys.argv[0]) is the name of the script itself.\n",
    "\n",
    "\n",
    "print(\"Script Name:\", sys.argv[0])\n",
    "print(\"Arguments:\", sys.argv[1:])\n",
    "print(sys.argv)\n"
   ]
  },
  {
   "cell_type": "code",
   "execution_count": 6,
   "metadata": {},
   "outputs": [
    {
     "name": "stdout",
     "output_type": "stream",
     "text": [
      "Python Module Paths:\n",
      "c:\\Users\\J Narasimha Rao\\Desktop\\Python\\Python Libraries\n",
      "e:\\Anaconda Navigator\\python310.zip\n",
      "e:\\Anaconda Navigator\\DLLs\n",
      "e:\\Anaconda Navigator\\lib\n",
      "e:\\Anaconda Navigator\n",
      "\n",
      "e:\\Anaconda Navigator\\lib\\site-packages\n",
      "e:\\Anaconda Navigator\\lib\\site-packages\\win32\n",
      "e:\\Anaconda Navigator\\lib\\site-packages\\win32\\lib\n",
      "e:\\Anaconda Navigator\\lib\\site-packages\\Pythonwin\n"
     ]
    }
   ],
   "source": [
    "# sys.path\n",
    "## sys.path is a list of strings that specifies the search path for modules. \n",
    "## It is initialized with the directory containing the script, followed by the default Python module paths.\n",
    "print(\"Python Module Paths:\")\n",
    "for path in sys.path:\n",
    "    print(path)\n"
   ]
  },
  {
   "cell_type": "code",
   "execution_count": 9,
   "metadata": {},
   "outputs": [
    {
     "name": "stdout",
     "output_type": "stream",
     "text": [
      "Loaded Modules:\n",
      "sys\n"
     ]
    }
   ],
   "source": [
    "# sys.modules:\n",
    "## sys.modules is a dictionary that maps module names to modules that have already been loaded.\n",
    "print(\"Loaded Modules:\")\n",
    "for module_name, module in sys.modules.items():\n",
    "    print(module_name)\n",
    "    break\n",
    "\n"
   ]
  },
  {
   "cell_type": "code",
   "execution_count": 10,
   "metadata": {},
   "outputs": [
    {
     "name": "stdout",
     "output_type": "stream",
     "text": [
      "Python Version: 3.10.9 | packaged by Anaconda, Inc. | (main, Mar  1 2023, 18:18:15) [MSC v.1916 64 bit (AMD64)]\n",
      "Python Version Info: sys.version_info(major=3, minor=10, micro=9, releaselevel='final', serial=0)\n"
     ]
    }
   ],
   "source": [
    "# sys.version is a string containing the Python interpreter's version.\n",
    "# sys.version_info is a tuple containing the same version information as integers.\n",
    "print(\"Python Version:\", sys.version)\n",
    "print(\"Python Version Info:\", sys.version_info)"
   ]
  },
  {
   "cell_type": "code",
   "execution_count": 13,
   "metadata": {},
   "outputs": [
    {
     "name": "stdout",
     "output_type": "stream",
     "text": [
      "Hello, stdout!\n"
     ]
    },
    {
     "name": "stderr",
     "output_type": "stream",
     "text": [
      "Error: Something went wrong!\n"
     ]
    },
    {
     "data": {
      "text/plain": [
       "29"
      ]
     },
     "execution_count": 13,
     "metadata": {},
     "output_type": "execute_result"
    }
   ],
   "source": [
    "import sys\n",
    "\n",
    "sys.stdout.write(\"Hello, stdout!\\n\")\n",
    "sys.stderr.write(\"Error: Something went wrong!\\n\")\n"
   ]
  },
  {
   "cell_type": "code",
   "execution_count": 18,
   "metadata": {},
   "outputs": [
    {
     "name": "stdout",
     "output_type": "stream",
     "text": [
      "Exception Type: <class 'ZeroDivisionError'>\n",
      "Exception Value: division by zero\n",
      "Exception Value: <traceback object at 0x00000181DD17B2C0>\n",
      "C:\\Users\\J Narasimha Rao\\AppData\\Local\\Temp\\ipykernel_14828\\720142885.py\n"
     ]
    }
   ],
   "source": [
    "import sys\n",
    "\n",
    "try:\n",
    "    # Some code that may raise an exception\n",
    "    result = 1 / 0\n",
    "except Exception as e:\n",
    "    exc_type, exc_value, exc_traceback = sys.exc_info()\n",
    "    print(\"Exception Type:\", exc_type)\n",
    "    print(\"Exception Value:\", exc_value)\n",
    "    print(\"Exception Value:\", exc_traceback)\n",
    "    print(exc_traceback.tb_frame.f_code.co_filename)\n",
    "    # for tb_entry in traceback.extract_tb(exc_traceback):\n",
    "    #     print(tb_entry)\n"
   ]
  }
 ],
 "metadata": {
  "kernelspec": {
   "display_name": "base",
   "language": "python",
   "name": "python3"
  },
  "language_info": {
   "codemirror_mode": {
    "name": "ipython",
    "version": 3
   },
   "file_extension": ".py",
   "mimetype": "text/x-python",
   "name": "python",
   "nbconvert_exporter": "python",
   "pygments_lexer": "ipython3",
   "version": "3.10.9"
  }
 },
 "nbformat": 4,
 "nbformat_minor": 2
}

{
 "cells": [
  {
   "cell_type": "code",
   "execution_count": 7,
   "metadata": {},
   "outputs": [],
   "source": [
    "import multiprocessing\n",
    "import time\n",
    "import tqdm"
   ]
  },
  {
   "cell_type": "code",
   "execution_count": 9,
   "metadata": {},
   "outputs": [
    {
     "name": "stdout",
     "output_type": "stream",
     "text": [
      "Finished in 0.01 seconds\n"
     ]
    }
   ],
   "source": [
    "start = time.perf_counter()\n",
    "\n",
    "def do_something(sec):\n",
    "    print(f'Sleep {sec} second')\n",
    "    time.sleep(sec)\n",
    "    print(f'Done Sleeping {sec}')\n",
    "    \n",
    "if __name__ == '__main__':\n",
    "    info\n",
    "    p1=multiprocessing.Process(target=do_something,args=[2])\n",
    "    p1.start()\n",
    "\n",
    "\n",
    "# If join is not included then when two functions are in sleep mode it prints the finish-start\n",
    "finish = time.perf_counter()\n",
    "\n",
    "print(f'Finished in {round(finish-start,2)} seconds')"
   ]
  },
  {
   "cell_type": "code",
   "execution_count": 18,
   "metadata": {},
   "outputs": [],
   "source": [
    "import psutil\n",
    "import numpy as np\n",
    "import time"
   ]
  },
  {
   "cell_type": "code",
   "execution_count": 25,
   "metadata": {},
   "outputs": [
    {
     "name": "stdout",
     "output_type": "stream",
     "text": [
      "CPU : 4.8%\n",
      "CPU : 48.4%\n",
      "CPU : 38.4%\n",
      "CPU : 39.0%\n",
      "CPU : 38.2%\n",
      "CPU : 38.5%\n",
      "CPU : 33.6%\n",
      "CPU : 34.5%\n",
      "CPU : 29.5%\n",
      "CPU : 35.1%\n",
      "CPU : 28.7%\n",
      "CPU : 37.5%\n",
      "Time:56.94936656951904\n"
     ]
    }
   ],
   "source": [
    "\n",
    "def monitor_cpu_utilization():\n",
    "    for i in range(12):\n",
    "        matrix_size = 1000\n",
    "        num_matrices = 100\n",
    "\n",
    "        matrices = [np.random.random((matrix_size, matrix_size)) for _ in range(num_matrices)]\n",
    "\n",
    "        result = np.zeros((matrix_size, matrix_size))\n",
    "\n",
    "        for matrix in matrices:\n",
    "            result += np.dot(matrix, matrix)\n",
    "\n",
    "        \n",
    "        # cpu_utilization = psutil.cpu_percent(percpu=True)\n",
    "        cpu_utilization = psutil.cpu_percent()\n",
    "        print(f\"CPU : {cpu_utilization}%\")\n",
    "            \n",
    "        # for core, utilization in enumerate(cpu_utilization):\n",
    "        #     print(f\"CPU Core {core}: {utilization}%\")\n",
    "            \n",
    "        \n",
    "\n",
    "if __name__ == \"__main__\":\n",
    "    start=time.time()\n",
    "    monitor_cpu_utilization()\n",
    "    end=time.time()\n",
    "    print(f\"Time:{end-start}\")\n"
   ]
  },
  {
   "cell_type": "code",
   "execution_count": 4,
   "metadata": {},
   "outputs": [],
   "source": [
    "import multiprocessing\n",
    "import time"
   ]
  },
  {
   "cell_type": "code",
   "execution_count": 8,
   "metadata": {},
   "outputs": [
    {
     "name": "stdout",
     "output_type": "stream",
     "text": [
      "<Process name='Process-8' pid=30292 parent=29944 stopped exitcode=1>\n"
     ]
    }
   ],
   "source": [
    "\n",
    "\n",
    "# def square(x):\n",
    "#     return x**2\n",
    "\n",
    "# if __name__ == '__main__':\n",
    "#     with multiprocessing.Pool() as pool:\n",
    "#         numbers = [1, 2]\n",
    "#         result = pool.map(square, numbers)\n",
    "#         print(result)\n",
    "        \n",
    "        \n",
    "\n",
    "def process(x):\n",
    "    time.sleep(5)\n",
    "    for i in range(200000):\n",
    "        x+=i\n",
    "    \n",
    "p=[]\n",
    "list=[9,0,8]\n",
    "for i in list:\n",
    "    m=multiprocessing.Process(target=process)\n",
    "    m.start()\n",
    "    p.append(m)\n",
    "    \n",
    "    \n",
    "for x in p:\n",
    "    x.join()\n",
    "    \n",
    "print(x)"
   ]
  },
  {
   "cell_type": "code",
   "execution_count": 27,
   "metadata": {},
   "outputs": [
    {
     "name": "stdout",
     "output_type": "stream",
     "text": [
      "Time:6.852612495422363\n"
     ]
    }
   ],
   "source": [
    "def process():\n",
    "    matrix_size = 1000\n",
    "    num_matrices = 100\n",
    "    matrices = [np.random.random((matrix_size, matrix_size)) for _ in range(num_matrices)]\n",
    "    result = np.zeros((matrix_size, matrix_size))\n",
    "    for matrix in matrices:\n",
    "        result += np.dot(matrix, matrix)\n",
    "        \n",
    "    cpu_utilization = psutil.cpu_percent()\n",
    "    print(f\"CPU : {cpu_utilization}%\")\n",
    "    \n",
    "\n",
    "\n",
    "\n",
    "            \n",
    "        \n",
    "\n",
    "if __name__ == \"__main__\":\n",
    "    start=time.time()\n",
    "    list=[]\n",
    "    for i in range(200):\n",
    "        p=multiprocessing.Process(target=process)\n",
    "        p.start()\n",
    "        list.append(p)\n",
    "        \n",
    "    for x in list:\n",
    "        x.join()\n",
    "    end=time.time()\n",
    "    print(f\"Time:{end-start}\")\n"
   ]
  },
  {
   "cell_type": "code",
   "execution_count": null,
   "metadata": {},
   "outputs": [],
   "source": []
  }
 ],
 "metadata": {
  "kernelspec": {
   "display_name": "base",
   "language": "python",
   "name": "python3"
  },
  "language_info": {
   "codemirror_mode": {
    "name": "ipython",
    "version": 3
   },
   "file_extension": ".py",
   "mimetype": "text/x-python",
   "name": "python",
   "nbconvert_exporter": "python",
   "pygments_lexer": "ipython3",
   "version": "3.10.9"
  },
  "orig_nbformat": 4
 },
 "nbformat": 4,
 "nbformat_minor": 2
}
